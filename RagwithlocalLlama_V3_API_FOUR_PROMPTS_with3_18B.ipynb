{
  "cells": [
    {
      "cell_type": "code",
      "execution_count": 1,
      "metadata": {
        "colab": {
          "base_uri": "https://localhost:8080/"
        },
        "id": "MB5pkUBTPxT9",
        "outputId": "60d7a6b0-7a03-4f2c-b814-11ab01f1c749"
      },
      "outputs": [
        {
          "name": "stdout",
          "output_type": "stream",
          "text": [
            ">>> Cleaning up old version at /usr/local/lib/ollama\n",
            ">>> Installing ollama to /usr/local\n",
            ">>> Downloading Linux amd64 bundle\n",
            "############################################################################################# 100.0%\n",
            ">>> Adding ollama user to video group...\n",
            ">>> Adding current user to ollama group...\n",
            ">>> Creating ollama systemd service...\n",
            "\u001b[1m\u001b[31mWARNING:\u001b[m systemd is not running\n",
            "\u001b[1m\u001b[31mWARNING:\u001b[m Unable to detect NVIDIA/AMD GPU. Install lspci or lshw to automatically detect and install GPU dependencies.\n",
            ">>> The Ollama API is now available at 127.0.0.1:11434.\n",
            ">>> Install complete. Run \"ollama\" from the command line.\n"
          ]
        }
      ],
      "source": [
        "#installing ollama\n",
        "#!pip install ollama\n",
        "!curl -fsSL https://ollama.com/install.sh | sh"
      ]
    },
    {
      "cell_type": "code",
      "execution_count": 2,
      "metadata": {
        "id": "Vo5wtP9yRXMO"
      },
      "outputs": [],
      "source": [
        "#starting ollama server locally\n",
        "import subprocess\n",
        "import time\n",
        "process = subprocess.Popen(\"ollama serve\", shell=True)\n",
        "time.sleep(5)  # Wait for 5 seconds"
      ]
    },
    {
      "cell_type": "code",
      "execution_count": 3,
      "metadata": {
        "colab": {
          "base_uri": "https://localhost:8080/"
        },
        "id": "VnT_dwq7P5VC",
        "outputId": "b9c44005-fd20-4dce-c726-df6da251c868"
      },
      "outputs": [
        {
          "name": "stdout",
          "output_type": "stream",
          "text": [
            "\u001b[?25lpulling manifest ⠋ \u001b[?25h\u001b[?25l\u001b[2K\u001b[1Gpulling manifest ⠙ \u001b[?25h\u001b[?25l\u001b[2K\u001b[1Gpulling manifest ⠸ \u001b[?25h\u001b[?25l\u001b[2K\u001b[1Gpulling manifest ⠸ \u001b[?25h\u001b[?25l\u001b[2K\u001b[1Gpulling manifest \n",
            "pulling 667b0c1932bc... 100% ▕▏ 4.9 GB                         \n",
            "pulling 948af2743fc7... 100% ▕▏ 1.5 KB                         \n",
            "pulling 0ba8f0e314b4... 100% ▕▏  12 KB                         \n",
            "pulling 56bb8bd477a5... 100% ▕▏   96 B                         \n",
            "pulling 455f34728c9b... 100% ▕▏  487 B                         \n",
            "verifying sha256 digest \n",
            "writing manifest \n",
            "success \u001b[?25h\n"
          ]
        }
      ],
      "source": [
        "#pulling llama3 using ollama\n",
        "!ollama pull llama3.1:8b"
      ]
    },
    {
      "cell_type": "code",
      "execution_count": 4,
      "metadata": {
        "colab": {
          "base_uri": "https://localhost:8080/"
        },
        "id": "zlmNn4VpRB0f",
        "outputId": "037f45a9-1e38-4ceb-8901-a5d4cc9f72f6"
      },
      "outputs": [
        {
          "name": "stdout",
          "output_type": "stream",
          "text": [
            "NAME                       ID              SIZE      MODIFIED               \n",
            "llama3.1:8b                46e0c10c039e    4.9 GB    Less than a second ago    \n",
            "nomic-embed-text:latest    0a109f422b47    274 MB    5 minutes ago             \n"
          ]
        }
      ],
      "source": [
        "#testing llama 3 is availble\n",
        "!ollama list"
      ]
    },
    {
      "cell_type": "code",
      "execution_count": 5,
      "metadata": {
        "colab": {
          "base_uri": "https://localhost:8080/"
        },
        "id": "wZH9NWqa_INO",
        "outputId": "9f01b700-e1bc-4c03-ad83-bc1c213d4373"
      },
      "outputs": [
        {
          "name": "stdout",
          "output_type": "stream",
          "text": [
            "\u001b[?25lpulling manifest ⠋ \u001b[?25h\u001b[?25l\u001b[2K\u001b[1Gpulling manifest ⠙ \u001b[?25h\u001b[?25l\u001b[2K\u001b[1Gpulling manifest ⠹ \u001b[?25h\u001b[?25l\u001b[2K\u001b[1Gpulling manifest ⠼ \u001b[?25h\u001b[?25l\u001b[2K\u001b[1Gpulling manifest \n",
            "pulling 970aa74c0a90... 100% ▕▏ 274 MB                         \n",
            "pulling c71d239df917... 100% ▕▏  11 KB                         \n",
            "pulling ce4a164fc046... 100% ▕▏   17 B                         \n",
            "pulling 31df23ea7daa... 100% ▕▏  420 B                         \n",
            "verifying sha256 digest \n",
            "writing manifest \n",
            "success \u001b[?25h\n"
          ]
        }
      ],
      "source": [
        "!ollama pull nomic-embed-text"
      ]
    },
    {
      "cell_type": "code",
      "execution_count": 6,
      "metadata": {
        "colab": {
          "base_uri": "https://localhost:8080/"
        },
        "id": "oMg5iCGIPAsG",
        "outputId": "efbd03e1-e8a3-4625-df4d-211a3e6f840a"
      },
      "outputs": [
        {
          "name": "stdout",
          "output_type": "stream",
          "text": [
            "Requirement already satisfied: langchain_community in /usr/local/lib/python3.11/dist-packages (0.2.19)\n",
            "Requirement already satisfied: langchain in /usr/local/lib/python3.11/dist-packages (0.2.17)\n",
            "Requirement already satisfied: langchain-openai in /usr/local/lib/python3.11/dist-packages (0.1.25)\n",
            "Requirement already satisfied: langchain_pinecone in /usr/local/lib/python3.11/dist-packages (0.1.3)\n",
            "Requirement already satisfied: docarray in /usr/local/lib/python3.11/dist-packages (0.40.0)\n",
            "Requirement already satisfied: pydantic==1.10.8 in /usr/local/lib/python3.11/dist-packages (1.10.8)\n",
            "Requirement already satisfied: pytube in /usr/local/lib/python3.11/dist-packages (15.0.0)\n",
            "Requirement already satisfied: python-dotenv in /usr/local/lib/python3.11/dist-packages (1.0.1)\n",
            "Requirement already satisfied: tiktoken in /usr/local/lib/python3.11/dist-packages (0.9.0)\n",
            "Requirement already satisfied: pinecone-client in /usr/local/lib/python3.11/dist-packages (5.0.1)\n",
            "Requirement already satisfied: scikit-learn in /usr/local/lib/python3.11/dist-packages (1.6.1)\n",
            "Requirement already satisfied: ruff in /usr/local/lib/python3.11/dist-packages (0.9.6)\n",
            "Requirement already satisfied: pypdf in /usr/local/lib/python3.11/dist-packages (5.3.0)\n",
            "Requirement already satisfied: faiss-cpu in /usr/local/lib/python3.11/dist-packages (1.10.0)\n",
            "Requirement already satisfied: sentence-transformers in /usr/local/lib/python3.11/dist-packages (3.4.1)\n",
            "Requirement already satisfied: flask-ngrok in /usr/local/lib/python3.11/dist-packages (0.0.25)\n",
            "Requirement already satisfied: flask in /usr/local/lib/python3.11/dist-packages (3.1.0)\n",
            "Requirement already satisfied: typing-extensions>=4.2.0 in /usr/local/lib/python3.11/dist-packages (from pydantic==1.10.8) (4.12.2)\n",
            "Requirement already satisfied: PyYAML>=5.3 in /usr/local/lib/python3.11/dist-packages (from langchain_community) (6.0.2)\n",
            "Requirement already satisfied: SQLAlchemy<3,>=1.4 in /usr/local/lib/python3.11/dist-packages (from langchain_community) (2.0.38)\n",
            "Requirement already satisfied: aiohttp<4.0.0,>=3.8.3 in /usr/local/lib/python3.11/dist-packages (from langchain_community) (3.11.12)\n",
            "Requirement already satisfied: dataclasses-json<0.7,>=0.5.7 in /usr/local/lib/python3.11/dist-packages (from langchain_community) (0.6.7)\n",
            "Requirement already satisfied: langchain-core<0.3.0,>=0.2.43 in /usr/local/lib/python3.11/dist-packages (from langchain_community) (0.2.43)\n",
            "Requirement already satisfied: langsmith<0.2.0,>=0.1.112 in /usr/local/lib/python3.11/dist-packages (from langchain_community) (0.1.147)\n",
            "Requirement already satisfied: numpy<2,>=1 in /usr/local/lib/python3.11/dist-packages (from langchain_community) (1.26.4)\n",
            "Requirement already satisfied: requests<3,>=2 in /usr/local/lib/python3.11/dist-packages (from langchain_community) (2.32.3)\n",
            "Requirement already satisfied: tenacity!=8.4.0,<9.0.0,>=8.1.0 in /usr/local/lib/python3.11/dist-packages (from langchain_community) (8.5.0)\n",
            "Requirement already satisfied: langchain-text-splitters<0.3.0,>=0.2.0 in /usr/local/lib/python3.11/dist-packages (from langchain) (0.2.4)\n",
            "Requirement already satisfied: openai<2.0.0,>=1.40.0 in /usr/local/lib/python3.11/dist-packages (from langchain-openai) (1.61.1)\n",
            "\u001b[33mWARNING: langchain 0.2.17 does not provide the extra 'docarray'\u001b[0m\u001b[33m\n",
            "\u001b[0mRequirement already satisfied: orjson>=3.8.2 in /usr/local/lib/python3.11/dist-packages (from docarray) (3.10.15)\n",
            "Requirement already satisfied: rich>=13.1.0 in /usr/local/lib/python3.11/dist-packages (from docarray) (13.9.4)\n",
            "Requirement already satisfied: types-requests>=2.28.11.6 in /usr/local/lib/python3.11/dist-packages (from docarray) (2.32.0.20241016)\n",
            "Requirement already satisfied: typing-inspect>=0.8.0 in /usr/local/lib/python3.11/dist-packages (from docarray) (0.9.0)\n",
            "Requirement already satisfied: regex>=2022.1.18 in /usr/local/lib/python3.11/dist-packages (from tiktoken) (2024.11.6)\n",
            "Requirement already satisfied: certifi>=2019.11.17 in /usr/local/lib/python3.11/dist-packages (from pinecone-client) (2025.1.31)\n",
            "Requirement already satisfied: pinecone-plugin-inference<2.0.0,>=1.0.3 in /usr/local/lib/python3.11/dist-packages (from pinecone-client) (1.1.0)\n",
            "Requirement already satisfied: pinecone-plugin-interface<0.0.8,>=0.0.7 in /usr/local/lib/python3.11/dist-packages (from pinecone-client) (0.0.7)\n",
            "Requirement already satisfied: tqdm>=4.64.1 in /usr/local/lib/python3.11/dist-packages (from pinecone-client) (4.67.1)\n",
            "Requirement already satisfied: urllib3>=1.26.0 in /usr/local/lib/python3.11/dist-packages (from pinecone-client) (2.3.0)\n",
            "Requirement already satisfied: scipy>=1.6.0 in /usr/local/lib/python3.11/dist-packages (from scikit-learn) (1.13.1)\n",
            "Requirement already satisfied: joblib>=1.2.0 in /usr/local/lib/python3.11/dist-packages (from scikit-learn) (1.4.2)\n",
            "Requirement already satisfied: threadpoolctl>=3.1.0 in /usr/local/lib/python3.11/dist-packages (from scikit-learn) (3.5.0)\n",
            "Requirement already satisfied: packaging in /usr/local/lib/python3.11/dist-packages (from faiss-cpu) (24.2)\n",
            "Requirement already satisfied: transformers<5.0.0,>=4.41.0 in /usr/local/lib/python3.11/dist-packages (from sentence-transformers) (4.48.3)\n",
            "Requirement already satisfied: torch>=1.11.0 in /usr/local/lib/python3.11/dist-packages (from sentence-transformers) (2.5.1+cu124)\n",
            "Requirement already satisfied: huggingface-hub>=0.20.0 in /usr/local/lib/python3.11/dist-packages (from sentence-transformers) (0.28.1)\n",
            "Requirement already satisfied: Pillow in /usr/local/lib/python3.11/dist-packages (from sentence-transformers) (11.1.0)\n",
            "Requirement already satisfied: Werkzeug>=3.1 in /usr/local/lib/python3.11/dist-packages (from flask) (3.1.3)\n",
            "Requirement already satisfied: Jinja2>=3.1.2 in /usr/local/lib/python3.11/dist-packages (from flask) (3.1.5)\n",
            "Requirement already satisfied: itsdangerous>=2.2 in /usr/local/lib/python3.11/dist-packages (from flask) (2.2.0)\n",
            "Requirement already satisfied: click>=8.1.3 in /usr/local/lib/python3.11/dist-packages (from flask) (8.1.8)\n",
            "Requirement already satisfied: blinker>=1.9 in /usr/local/lib/python3.11/dist-packages (from flask) (1.9.0)\n",
            "Requirement already satisfied: aiohappyeyeballs>=2.3.0 in /usr/local/lib/python3.11/dist-packages (from aiohttp<4.0.0,>=3.8.3->langchain_community) (2.4.6)\n",
            "Requirement already satisfied: aiosignal>=1.1.2 in /usr/local/lib/python3.11/dist-packages (from aiohttp<4.0.0,>=3.8.3->langchain_community) (1.3.2)\n",
            "Requirement already satisfied: attrs>=17.3.0 in /usr/local/lib/python3.11/dist-packages (from aiohttp<4.0.0,>=3.8.3->langchain_community) (25.1.0)\n",
            "Requirement already satisfied: frozenlist>=1.1.1 in /usr/local/lib/python3.11/dist-packages (from aiohttp<4.0.0,>=3.8.3->langchain_community) (1.5.0)\n",
            "Requirement already satisfied: multidict<7.0,>=4.5 in /usr/local/lib/python3.11/dist-packages (from aiohttp<4.0.0,>=3.8.3->langchain_community) (6.1.0)\n",
            "Requirement already satisfied: propcache>=0.2.0 in /usr/local/lib/python3.11/dist-packages (from aiohttp<4.0.0,>=3.8.3->langchain_community) (0.2.1)\n",
            "Requirement already satisfied: yarl<2.0,>=1.17.0 in /usr/local/lib/python3.11/dist-packages (from aiohttp<4.0.0,>=3.8.3->langchain_community) (1.18.3)\n",
            "Requirement already satisfied: marshmallow<4.0.0,>=3.18.0 in /usr/local/lib/python3.11/dist-packages (from dataclasses-json<0.7,>=0.5.7->langchain_community) (3.26.1)\n",
            "Requirement already satisfied: filelock in /usr/local/lib/python3.11/dist-packages (from huggingface-hub>=0.20.0->sentence-transformers) (3.17.0)\n",
            "Requirement already satisfied: fsspec>=2023.5.0 in /usr/local/lib/python3.11/dist-packages (from huggingface-hub>=0.20.0->sentence-transformers) (2024.10.0)\n",
            "Requirement already satisfied: MarkupSafe>=2.0 in /usr/local/lib/python3.11/dist-packages (from Jinja2>=3.1.2->flask) (3.0.2)\n",
            "Requirement already satisfied: jsonpatch<2.0,>=1.33 in /usr/local/lib/python3.11/dist-packages (from langchain-core<0.3.0,>=0.2.43->langchain_community) (1.33)\n",
            "Requirement already satisfied: httpx<1,>=0.23.0 in /usr/local/lib/python3.11/dist-packages (from langsmith<0.2.0,>=0.1.112->langchain_community) (0.28.1)\n",
            "Requirement already satisfied: requests-toolbelt<2.0.0,>=1.0.0 in /usr/local/lib/python3.11/dist-packages (from langsmith<0.2.0,>=0.1.112->langchain_community) (1.0.0)\n",
            "Requirement already satisfied: anyio<5,>=3.5.0 in /usr/local/lib/python3.11/dist-packages (from openai<2.0.0,>=1.40.0->langchain-openai) (3.7.1)\n",
            "Requirement already satisfied: distro<2,>=1.7.0 in /usr/local/lib/python3.11/dist-packages (from openai<2.0.0,>=1.40.0->langchain-openai) (1.9.0)\n",
            "Requirement already satisfied: jiter<1,>=0.4.0 in /usr/local/lib/python3.11/dist-packages (from openai<2.0.0,>=1.40.0->langchain-openai) (0.8.2)\n",
            "Requirement already satisfied: sniffio in /usr/local/lib/python3.11/dist-packages (from openai<2.0.0,>=1.40.0->langchain-openai) (1.3.1)\n",
            "Requirement already satisfied: charset-normalizer<4,>=2 in /usr/local/lib/python3.11/dist-packages (from requests<3,>=2->langchain_community) (3.4.1)\n",
            "Requirement already satisfied: idna<4,>=2.5 in /usr/local/lib/python3.11/dist-packages (from requests<3,>=2->langchain_community) (3.10)\n",
            "Requirement already satisfied: markdown-it-py>=2.2.0 in /usr/local/lib/python3.11/dist-packages (from rich>=13.1.0->docarray) (3.0.0)\n",
            "Requirement already satisfied: pygments<3.0.0,>=2.13.0 in /usr/local/lib/python3.11/dist-packages (from rich>=13.1.0->docarray) (2.18.0)\n",
            "Requirement already satisfied: greenlet!=0.4.17 in /usr/local/lib/python3.11/dist-packages (from SQLAlchemy<3,>=1.4->langchain_community) (3.1.1)\n",
            "Requirement already satisfied: networkx in /usr/local/lib/python3.11/dist-packages (from torch>=1.11.0->sentence-transformers) (3.4.2)\n",
            "Requirement already satisfied: nvidia-cuda-nvrtc-cu12==12.4.127 in /usr/local/lib/python3.11/dist-packages (from torch>=1.11.0->sentence-transformers) (12.4.127)\n",
            "Requirement already satisfied: nvidia-cuda-runtime-cu12==12.4.127 in /usr/local/lib/python3.11/dist-packages (from torch>=1.11.0->sentence-transformers) (12.4.127)\n",
            "Requirement already satisfied: nvidia-cuda-cupti-cu12==12.4.127 in /usr/local/lib/python3.11/dist-packages (from torch>=1.11.0->sentence-transformers) (12.4.127)\n",
            "Requirement already satisfied: nvidia-cudnn-cu12==9.1.0.70 in /usr/local/lib/python3.11/dist-packages (from torch>=1.11.0->sentence-transformers) (9.1.0.70)\n",
            "Requirement already satisfied: nvidia-cublas-cu12==12.4.5.8 in /usr/local/lib/python3.11/dist-packages (from torch>=1.11.0->sentence-transformers) (12.4.5.8)\n",
            "Requirement already satisfied: nvidia-cufft-cu12==11.2.1.3 in /usr/local/lib/python3.11/dist-packages (from torch>=1.11.0->sentence-transformers) (11.2.1.3)\n",
            "Requirement already satisfied: nvidia-curand-cu12==10.3.5.147 in /usr/local/lib/python3.11/dist-packages (from torch>=1.11.0->sentence-transformers) (10.3.5.147)\n",
            "Requirement already satisfied: nvidia-cusolver-cu12==11.6.1.9 in /usr/local/lib/python3.11/dist-packages (from torch>=1.11.0->sentence-transformers) (11.6.1.9)\n",
            "Requirement already satisfied: nvidia-cusparse-cu12==12.3.1.170 in /usr/local/lib/python3.11/dist-packages (from torch>=1.11.0->sentence-transformers) (12.3.1.170)\n",
            "Requirement already satisfied: nvidia-nccl-cu12==2.21.5 in /usr/local/lib/python3.11/dist-packages (from torch>=1.11.0->sentence-transformers) (2.21.5)\n",
            "Requirement already satisfied: nvidia-nvtx-cu12==12.4.127 in /usr/local/lib/python3.11/dist-packages (from torch>=1.11.0->sentence-transformers) (12.4.127)\n",
            "Requirement already satisfied: nvidia-nvjitlink-cu12==12.4.127 in /usr/local/lib/python3.11/dist-packages (from torch>=1.11.0->sentence-transformers) (12.4.127)\n",
            "Requirement already satisfied: triton==3.1.0 in /usr/local/lib/python3.11/dist-packages (from torch>=1.11.0->sentence-transformers) (3.1.0)\n",
            "Requirement already satisfied: sympy==1.13.1 in /usr/local/lib/python3.11/dist-packages (from torch>=1.11.0->sentence-transformers) (1.13.1)\n",
            "Requirement already satisfied: mpmath<1.4,>=1.1.0 in /usr/local/lib/python3.11/dist-packages (from sympy==1.13.1->torch>=1.11.0->sentence-transformers) (1.3.0)\n",
            "Requirement already satisfied: tokenizers<0.22,>=0.21 in /usr/local/lib/python3.11/dist-packages (from transformers<5.0.0,>=4.41.0->sentence-transformers) (0.21.0)\n",
            "Requirement already satisfied: safetensors>=0.4.1 in /usr/local/lib/python3.11/dist-packages (from transformers<5.0.0,>=4.41.0->sentence-transformers) (0.5.2)\n",
            "Requirement already satisfied: mypy-extensions>=0.3.0 in /usr/local/lib/python3.11/dist-packages (from typing-inspect>=0.8.0->docarray) (1.0.0)\n",
            "Requirement already satisfied: httpcore==1.* in /usr/local/lib/python3.11/dist-packages (from httpx<1,>=0.23.0->langsmith<0.2.0,>=0.1.112->langchain_community) (1.0.7)\n",
            "Requirement already satisfied: h11<0.15,>=0.13 in /usr/local/lib/python3.11/dist-packages (from httpcore==1.*->httpx<1,>=0.23.0->langsmith<0.2.0,>=0.1.112->langchain_community) (0.14.0)\n",
            "Requirement already satisfied: jsonpointer>=1.9 in /usr/local/lib/python3.11/dist-packages (from jsonpatch<2.0,>=1.33->langchain-core<0.3.0,>=0.2.43->langchain_community) (3.0.0)\n",
            "Requirement already satisfied: mdurl~=0.1 in /usr/local/lib/python3.11/dist-packages (from markdown-it-py>=2.2.0->rich>=13.1.0->docarray) (0.1.2)\n"
          ]
        }
      ],
      "source": [
        "!pip install langchain_community langchain langchain-openai langchain_pinecone langchain[docarray] docarray pydantic==1.10.8 pytube python-dotenv tiktoken pinecone-client scikit-learn ruff pypdf faiss-cpu sentence-transformers flask-ngrok flask flask-ngrok\n"
      ]
    },
    {
      "cell_type": "code",
      "execution_count": 7,
      "metadata": {
        "id": "bMZmbjeGJll_"
      },
      "outputs": [],
      "source": [
        "import os\n",
        "from langchain_community.vectorstores import FAISS\n",
        "from langchain_community.llms import Ollama\n",
        "from langchain_openai.chat_models import ChatOpenAI\n",
        "from langchain_community.embeddings import OllamaEmbeddings\n",
        "from langchain_openai.embeddings import OpenAIEmbeddings\n",
        "from langchain_core.output_parsers import StrOutputParser\n",
        "from langchain.prompts import PromptTemplate\n",
        "from langchain_community.document_loaders import PyPDFLoader\n",
        "from langchain_community.vectorstores import DocArrayInMemorySearch\n",
        "from operator import itemgetter\n",
        "from langchain.embeddings import SentenceTransformerEmbeddings"
      ]
    },
    {
      "cell_type": "code",
      "execution_count": 8,
      "metadata": {
        "id": "8pm0gZk1Oi4e"
      },
      "outputs": [],
      "source": [
        "\n",
        "#setting up model dynamically\n",
        "#from dotenv import load_dotenv\n",
        "\n",
        "#load_dotenv()\n",
        "\n",
        "#OPENAI_API_KEY = os.getenv(\"OPENAI_API_KEY\")\n",
        "#MODEL = \"gpt-3.5-turbo\"\n",
        "#MODEL = \"mixtral:8x7b\"\n",
        "MODEL = \"llama3.1:8b\"\n",
        "#MODEL = \"llama3.1:70b\"\n",
        "\n",
        "#VECTOR_STORE = \"default\"\n",
        "VECTOR_STORE = \"FAISS\"\n",
        "#VECTOR_STORE = \"pinecone\""
      ]
    },
    {
      "cell_type": "code",
      "execution_count": 9,
      "metadata": {
        "id": "0XvY1Gw4OzGe"
      },
      "outputs": [],
      "source": [
        "#loading model based on selection\n",
        "if MODEL.startswith(\"gpt\"):\n",
        "    model = ChatOpenAI(openai_api_key=OPENAI_API_KEY, model=MODEL)\n",
        "    embeddings = OpenAIEmbeddings()\n",
        "else:\n",
        "    model = Ollama(model=MODEL, temperature = 0.2,top_p=1)\n",
        "    #embeddings = SentenceTransformerEmbeddings(model_name=\"all-mpnet-base-v2\")\n",
        "    embeddings = OllamaEmbeddings(model=\"nomic-embed-text\")\n",
        "\n",
        "#testing model invoke\n",
        "#model.invoke(\"what is ML\")"
      ]
    },
    {
      "cell_type": "code",
      "execution_count": 10,
      "metadata": {
        "id": "0L64O9tvKJQI"
      },
      "outputs": [],
      "source": [
        "#creating parser\n",
        "parser = StrOutputParser()\n",
        "\n",
        "chain = model | parser\n",
        "\n",
        "#testing model invoke with parser\n",
        "#chain.invoke(\"what is ML\")"
      ]
    },
    {
      "cell_type": "code",
      "execution_count": 11,
      "metadata": {
        "id": "MassZcwpLBMB"
      },
      "outputs": [],
      "source": [
        "#loading pdf files\n",
        "import copy\n",
        "\n",
        "loader = PyPDFLoader(\"/content/gxocompany.pdf\")\n",
        "pages = loader.load_and_split()\n",
        "pages_original = copy.deepcopy(pages)\n",
        "#pages_original[35]"
      ]
    },
    {
      "cell_type": "code",
      "execution_count": 12,
      "metadata": {
        "id": "5bNRodQp2MjF"
      },
      "outputs": [],
      "source": [
        "# Create an empty string to store the combined content\n",
        "combined_content = \"\"\n",
        "for page in pages_original:\n",
        "    combined_content += page.page_content\n",
        "\n",
        "# Print or use the combined content\n",
        "#print(combined_content)"
      ]
    },
    {
      "cell_type": "code",
      "execution_count": 13,
      "metadata": {
        "id": "UHtuVltUkXaT"
      },
      "outputs": [],
      "source": [
        "from langchain.text_splitter import RecursiveCharacterTextSplitter\n",
        "\n",
        "text_splitter = RecursiveCharacterTextSplitter(\n",
        "    chunk_size=1000,  # Adjust based on document size\n",
        "    chunk_overlap=200,  # Ensures important context isn't lost\n",
        "    separators=[\"\\n\\n\", \"\\n\", \" \"]  # Prioritize splitting at paragraph breaks\n",
        ")\n",
        "\n",
        "#chunks = text_splitter.split_documents(pages)\n",
        "chunks = text_splitter.create_documents([combined_content])"
      ]
    },
    {
      "cell_type": "code",
      "execution_count": 14,
      "metadata": {
        "id": "o8wjOCQ4fwsE"
      },
      "outputs": [],
      "source": [
        "import pandas as pd\n",
        "from langchain.schema import Document\n",
        "\n",
        "df = pd.read_excel('/content/gxo_statement.xlsx')\n",
        "\n",
        "all_content = \"\"\n",
        "separator = \"\\n\\n\"  # Define your separator (e.g., newline characters)\n",
        "for index, row in df.iterrows():\n",
        "    row_content = ' '.join([str(cell) for cell in row.values])  # Combine all cell values in a row\n",
        "    all_content += row_content + separator  # Add row content and separator to the combined string\n",
        "\n",
        "\n",
        "document = Document(page_content=all_content)\n",
        "chunks_excel = text_splitter.split_documents([document])\n",
        "\n",
        "# Add metadata to each chunk after splitting\n",
        "for chunk in chunks_excel:\n",
        "    chunk.metadata[\"source\"] = \"financial data\"\n",
        "\n",
        "#print(chunks_excel)\n",
        "\n",
        "all_chunks = chunks_excel + chunks\n",
        "#print(all_chunks)"
      ]
    },
    {
      "cell_type": "code",
      "execution_count": 15,
      "metadata": {
        "id": "-7ibIrIuLnvu"
      },
      "outputs": [],
      "source": [
        "#loading vector store based on selection\n",
        "if VECTOR_STORE == \"FAISS\":\n",
        "    #vectorstore = FAISS.from_documents(pages, embeddings)\n",
        "    vectorstore = FAISS.from_documents(all_chunks, embeddings)\n",
        "else:\n",
        "    vectorstore = DocArrayInMemorySearch.from_documents(chunks, embedding=embeddings, verbose=True)"
      ]
    },
    {
      "cell_type": "code",
      "execution_count": 16,
      "metadata": {
        "id": "IgZB3d6uY-sC"
      },
      "outputs": [],
      "source": [
        "def keyword_aware_retriever(question):\n",
        "    keyword_results = []\n",
        "    regular_results = []\n",
        "\n",
        "    if \"financial data\" in question.lower():\n",
        "        # Keyword search for \"financial data\"\n",
        "        keyword_results = vectorstore.search(\n",
        "            question,\n",
        "            search_type=\"similarity\",\n",
        "            search_kwargs={\"filter\": {\"source\": \"financial data\"}, \"k\": 1}\n",
        "        )\n",
        "\n",
        "        # Check if keyword_results contains a document with the desired metadata\n",
        "        has_financial_data = any(doc.metadata.get(\"source\") == \"financial data\" for doc in keyword_results)\n",
        "\n",
        "        # If not, add chunks_excel to keyword_results\n",
        "        if not has_financial_data:\n",
        "            keyword_results = chunks_excel + keyword_results\n",
        "\n",
        "    # Regular semantic search\n",
        "    regular_results = vectorstore.search(question, search_type=\"similarity\", search_kwargs={\"k\": 18})\n",
        "\n",
        "    # Combine results, prioritizing keyword matches\n",
        "    combined_results = keyword_results + [\n",
        "        doc for doc in regular_results if doc not in keyword_results\n",
        "    ]\n",
        "\n",
        "    return combined_results[:20]  # Limit to top 20 results"
      ]
    },
    {
      "cell_type": "code",
      "execution_count": 17,
      "metadata": {
        "id": "zdUxpw7TL61L"
      },
      "outputs": [],
      "source": [
        "#setting up retriver\n",
        "retriever = vectorstore.as_retriever(search_kwargs={\"k\": 20})\n",
        "\n",
        "#testing retriver\n",
        "#retriever.invoke(\"balance sheets\")"
      ]
    },
    {
      "cell_type": "code",
      "execution_count": 18,
      "metadata": {
        "id": "-ipxs1JGeM8W"
      },
      "outputs": [],
      "source": [
        "def print_context(inputs):\n",
        "  print(\"Context:\")\n",
        "  print(inputs[\"context\"])\n",
        "  return inputs"
      ]
    },
    {
      "cell_type": "code",
      "execution_count": 19,
      "metadata": {
        "id": "Y_2LWLGN1Vt3"
      },
      "outputs": [],
      "source": [
        "#creating template\n",
        "template = \"\"\"\n",
        "Analyze the provided financial data, focusing on the specified financial metric and its impact.\n",
        "\n",
        "When conducting your analysis, consider the following:\n",
        "\n",
        "1.  **Key Figures:** State the key financial figures for the current and prior periods relevant to the specified metric.\n",
        "2.  **Change Analysis:** Calculate and state the year-over-year (y/y) change in the metric, including both absolute values and percentages.\n",
        "3.  **Explanation of Changes:** Provide concise and specific reasons for the observed changes in the financial metric.\n",
        "\n",
        "In addition, incorporate the following into your analysis as relevant:\n",
        "\n",
        "-   **Related Ratios or Metrics:** Include any relevant financial ratios or metrics that provide further context or insights into the changes in the primary metric. Analyze their trends (stable, increased, decreased).\n",
        "-   **Impact on Profitability:** If applicable, discuss the impact of the changes in the financial metric on profitability (e.g., net operating profit, gross profit).\n",
        "\n",
        "Ensure the following:\n",
        "-   Use specific numerical values, including dollar amounts and percentages, where applicable.\n",
        "-   Provide concise and specific reasons for changes.\n",
        "-   Avoid unnecessary details.\n",
        "-   Present your analysis in a clear and concise manner.\n",
        "\n",
        "Financial Data: {context}\n",
        "\n",
        "Question: {question}\n",
        "\"\"\"\n",
        "\n",
        "prompt = PromptTemplate.from_template(template)\n",
        "\n",
        "#testing prompt\n",
        "#prompt.format(context=\"Here is some context\", question=\"Here is a question\")"
      ]
    },
    {
      "cell_type": "code",
      "execution_count": 20,
      "metadata": {
        "id": "jh4g4GZJMFqI"
      },
      "outputs": [],
      "source": [
        "#chaining all operations\n",
        "from langchain_core.runnables import RunnableLambda\n",
        "\n",
        "chain = (\n",
        "    #{\n",
        "     #   \"context\": itemgetter(\"question\") | retriever, #| RunnableLambda(lambda x: all_text),\n",
        "      #  #\"context\": RunnableLambda(lambda x: combined_content),\n",
        "       # \"question\": itemgetter(\"question\"),\n",
        "    #}\n",
        "     RunnableLambda(lambda x: {\"context\": keyword_aware_retriever(x[\"question\"]), \"question\": x[\"question\"]})\n",
        "    #| RunnableLambda(print_context)\n",
        "    | prompt\n",
        "    |model\n",
        "    | parser\n",
        ")"
      ]
    },
    {
      "cell_type": "code",
      "execution_count": 21,
      "metadata": {
        "colab": {
          "base_uri": "https://localhost:8080/"
        },
        "id": "Q-vOXzWzMHZt",
        "outputId": "cf3f260a-b430-45f3-a10c-f116290c0281"
      },
      "outputs": [
        {
          "name": "stdout",
          "output_type": "stream",
          "text": [
            "Question: \n",
            "  Analyze the financial data and provide a structured summary of revenue growth for the current and prior periods, using the keyword \"revenue\" to pick up relevant figures.\n",
            "\n",
            "Your response should include:\n",
            "\n",
            "1. Total revenue for the current and prior periods, expressed in the appropriate units (e.g., millions, billions).\n",
            "2. Year-over-year (y/y) change in revenue, including:\n",
            "    - Absolute change in dollars ($).\n",
            "    - Percentage change (%).\n",
            "3. Key factors contributing to the revenue change, with specific examples and data points from the financial statements to support your findings. If possible, quantify the impact of each factor on revenue in dollar terms.\n",
            "\n",
            "Answer: **Revenue Growth Analysis**\n",
            "\n",
            "Based on the provided financial data, we will analyze the revenue growth for the current period (2023) compared to the prior period (2022).\n",
            "\n",
            "**Key Figures:**\n",
            "\n",
            "*   Total Revenue:\n",
            "    *   2023: $9.778 billion\n",
            "    *   2022: $8.993 billion\n",
            "\n",
            "**Change Analysis:**\n",
            "\n",
            "*   Year-over-year (y/y) change in revenue:\n",
            "    *   Absolute change: $785 million\n",
            "    *   Percentage change: 9%\n",
            "\n",
            "**Explanation of Changes:**\n",
            "\n",
            "The increase in revenue is primarily attributed to the following factors:\n",
            "\n",
            "1.  **Clipper Acquisition:** The acquisition contributed $378 million to the revenue growth.\n",
            "2.  **PFS Acquisition:** This acquisition added $82 million to the revenue.\n",
            "3.  **Growth in Continental Europe:** Revenue growth in this region contributed significantly to the overall increase.\n",
            "\n",
            "**Related Ratios or Metrics:**\n",
            "\n",
            "*   Gross Profit Margin: The gross profit margin for 2023 was not directly provided, but we can calculate it using the given figures:\n",
            "    *   Gross Profit (2023): $1.743 billion\n",
            "    *   Total Revenue (2023): $9.778 billion\n",
            "    *   Gross Profit Margin (2023) = (Gross Profit / Total Revenue) \\* 100% ≈ 17.84%\n",
            "    *   The gross profit margin for 2022 was not directly provided, but we can calculate it using the given figures:\n",
            "        + Gross Profit (2022): $1.550 billion\n",
            "        + Total Revenue (2022): $8.993 billion\n",
            "        + Gross Profit Margin (2022) = (Gross Profit / Total Revenue) \\* 100% ≈ 17.32%\n",
            "    *   The gross profit margin increased by approximately 0.52 percentage points from 2022 to 2023.\n",
            "\n",
            "**Impact on Profitability:**\n",
            "\n",
            "The increase in revenue contributed positively to the company's profitability, as evident from the net income figures:\n",
            "\n",
            "*   Net Income (2023): $233 million\n",
            "*   Net Income (2022): $200 million\n",
            "\n",
            "The revenue growth and increased gross profit margin likely had a positive impact on the company's overall profitability.\n",
            "\n",
            "Question: \n",
            "Analyze the 'transactions and integration costs' from the provided financial data.\n",
            "\n",
            "Your analysis should include the following:\n",
            "\n",
            "1. **Key Figures:** State the total 'transactions and integration costs' for the current and prior periods.\n",
            "2. **Change Analysis:** Calculate and state the year-over-year (y/y) change in 'transactions and integration costs,' including both the absolute value and percentage change.\n",
            "3. **Explanation of Changes:** Provide a detailed explanation for the observed change in 'transactions and integration costs,' including specific reasons and any contributing factors.\n",
            "Present your analysis in a clear and concise manner, using specific numerical values, dollar amounts, and percentages wherever applicable.\n",
            "\n",
            "Answer: **Analysis of Transactions and Integration Costs**\n",
            "\n",
            "**Key Figures:**\n",
            "\n",
            "*   **2023:** $34 million\n",
            "*   **2022:** $61 million\n",
            "\n",
            "**Change Analysis:**\n",
            "\n",
            "*   **Year-over-Year (y/y) Change in Absolute Value:** -$27 million\n",
            "*   **Year-over-Year (y/y) Percentage Change:** -44.26%\n",
            "\n",
            "**Explanation of Changes:**\n",
            "\n",
            "The decrease in transactions and integration costs from 2022 to 2023 can be attributed to several factors:\n",
            "\n",
            "1.  **Integration Costs for Clipper Acquisition:** In 2022, the company incurred significant integration costs related to the Clipper acquisition, totaling $46 million. These costs included advisory fees, financing arrangements, and integration expenses.\n",
            "2.  **Separation-Related Costs:** The company also incurred rebranding costs of $15 million in 2022 due to the Separation.\n",
            "3.  **Reduced Advisory Fees and Severance Costs in 2023:** In contrast, the transactions and integration costs in 2023 included advisory fees and severance costs related to the Clipper acquisition ($20 million) and the PFS Acquisition ($12 million). However, these costs were lower compared to the previous year.\n",
            "\n",
            "The reduction in transactions and integration costs contributed to an increase in net operating profit by $78 million (353 - 275 million).\n",
            "\n",
            "**Related Ratios or Metrics:**\n",
            "\n",
            "*   **Gross Profit Margin:** The decrease in transactions and integration costs positively impacted the gross profit margin, which increased from 1550 million in 2022 to 1743 million in 2023.\n",
            "*   **Operating Expenses as a Percentage of Revenue:** The reduction in transactions and integration costs also led to a decrease in operating expenses as a percentage of revenue, indicating improved operational efficiency.\n",
            "\n",
            "**Impact on Profitability:**\n",
            "\n",
            "The decrease in transactions and integration costs had a direct positive impact on net operating profit, increasing it by $78 million (353 - 275 million). This improvement in profitability is a result of the company's efforts to reduce integration costs and optimize its operations.\n",
            "\n",
            "Question: \n",
            "Analyze the 'total operating expenses' from the provided financial data, focusing on the operating expense ratio, net operating profit, and revenue.\n",
            "\n",
            "Your analysis should include the following:\n",
            "\n",
            "1. Key Figures:\n",
            "    - State the total 'operating expenses' for the current period and prior period in millions.\n",
            "    - Include a breakdown of specific contributing factors and their impact on net operating profit, if available.\n",
            "    - What is the operating expense ratio for the current period and prior period, expressed as a percentage? How does the trend of operating expenses compare to revenue growth?\n",
            "2. Change Analysis:\n",
            "    - Calculate and state the year-over-year (y/y) change in 'operating expenses,' including both the absolute value (in $MM) and percentage change (%).\n",
            "    - What is the year-over-year change in net operating profit, expressed in both dollar amount ($MM) and percentage (%)?\n",
            "3. Explanation of Changes:\n",
            "    - Provide a detailed explanation for the observed change in 'operating expenses,' including specific reasons and any contributing factors.\n",
            "    - If possible, mention factors like lease and bad debt expenses and their impact in dollar terms, if they are relevant to the changes.\n",
            "\n",
            "Present your analysis in a clear and concise manner, using specific numerical values, dollar amounts, and percentages wherever applicable. Ensure you extract values directly from the 'Structured Income Statement Summary' if available in the financial data.\n",
            "\n",
            "Answer: **Analysis of Total Operating Expenses**\n",
            "\n",
            "**Key Figures:**\n",
            "\n",
            "*   **Total Operating Expenses (2023):** $1,532 million\n",
            "*   **Total Operating Expenses (2022):** $1,343 million\n",
            "*   **Breakdown of Specific Contributing Factors:**\n",
            "    *   Direct operating expense for 2023 increased by 8%, or $592 million, to $8.0 billion compared with $7.4 billion for 2022.\n",
            "    *   Transaction and integration costs decreased by 44% to $34 million in 2023 from $61 million in 2022.\n",
            "*   **Operating Expense Ratio (2023):** 15.6%\n",
            "*   **Operating Expense Ratio (2022):** 14.9%\n",
            "\n",
            "The operating expense ratio for the current period is higher than the prior period, indicating that operating expenses as a percentage of revenue have increased.\n",
            "\n",
            "**Change Analysis:**\n",
            "\n",
            "*   **Year-over-Year Change in Operating Expenses:** $189 million (14% increase)\n",
            "*   **Year-over-Year Change in Net Operating Profit:** $78 million (28.4% increase)\n",
            "\n",
            "The year-over-year change in net operating profit is higher than the year-over-year change in operating expenses, indicating that the company's profitability has improved despite an increase in operating expenses.\n",
            "\n",
            "**Explanation of Changes:**\n",
            "\n",
            "The observed change in operating expenses can be attributed to several factors:\n",
            "\n",
            "*   **Direct Operating Expense Increase:** The 8% increase in direct operating expense is primarily due to higher personnel and rent expenses.\n",
            "*   **Transaction and Integration Costs Decrease:** The decrease in transaction and integration costs by 44% contributed to the overall decrease in operating expenses.\n",
            "\n",
            "The company's revenue growth of 9% has outpaced the growth in operating expenses, resulting in an increase in net operating profit. However, the operating expense ratio has increased, indicating that the company may need to focus on cost control measures to maintain profitability.\n",
            "\n",
            "Question: \n",
            "Analyze the financial data provided and summarize the key financial performance for the recent fiscal year, focusing on revenue, cost of goods sold (COGS), gross profit, and gross profit margin.\n",
            "\n",
            "Your analysis should include:\n",
            "\n",
            "* **Key Figures:** Present the key financial figures for the current and prior periods for each of the metrics mentioned, including specific amounts and percentages. Show your calculations to derive these figures where possible, using the data provided in the context.\n",
            "* **Change Analysis:** Calculate and state the year-over-year (y/y) change for each metric, including both absolute values ($) and percentages (%).\n",
            "* **Explanation of Changes:** Provide concise and specific reasons for the observed changes in each metric, referencing the context and highlighting key factors driving the performance.\n",
            "* **Related Ratios and Metrics:** Include relevant financial ratios or metrics that provide further context (e.g., gross profit margin). Analyze their trends (stable, increased, decreased) and their impact on profitability.\n",
            "* **Impact on Profitability:** Discuss the overall impact of the changes on the company's profitability, highlighting key drivers and trends.\n",
            "\n",
            "Present your analysis in a clear and concise manner, using bullet points or numbered lists for clarity. Support your analysis with specific numerical values, dollar amounts, and percentages wherever applicable.\n",
            "\n",
            "Answer: **Financial Performance Analysis**\n",
            "\n",
            "### Key Figures\n",
            "\n",
            "| Metric | 2023 | 2022 |\n",
            "| --- | --- | --- |\n",
            "| Revenue | $9,778 | $8,993 |\n",
            "| Cost of Goods Sold (COGS) | $8,035 | $7,443 |\n",
            "| Gross Profit | $1,743 | $1,550 |\n",
            "| Gross Profit Margin | 17.85% | 17.33% |\n",
            "\n",
            "### Change Analysis\n",
            "\n",
            "* Revenue: +$785 ($9,778 - $8,993), +8.74%\n",
            "* COGS: +$592 ($8,035 - $7,443), +7.95%\n",
            "* Gross Profit: +$193 ($1,743 - $1,550), +12.45%\n",
            "* Gross Profit Margin: +0.52% (17.85% - 17.33%)\n",
            "\n",
            "### Explanation of Changes\n",
            "\n",
            "* Revenue increased by $785, or 8.74%, due to a combination of factors including growth in sales and expansion into new markets.\n",
            "* COGS rose by $592, or 7.95%, primarily driven by higher raw material costs and increased production volumes.\n",
            "* Gross Profit saw an increase of $193, or 12.45%, as the revenue growth outpaced the rise in COGS.\n",
            "\n",
            "### Related Ratios and Metrics\n",
            "\n",
            "* **Gross Profit Margin Trend:** The gross profit margin has been stable over the past two years, indicating that the company's pricing strategy and cost management have been effective.\n",
            "* **Impact on Profitability:** The increase in gross profit will positively impact profitability, assuming other expenses remain constant.\n",
            "\n",
            "### Impact on Profitability\n",
            "\n",
            "The rise in revenue and gross profit, coupled with a stable gross profit margin, bodes well for the company's overall profitability. However, it is essential to monitor other expense categories, such as operating expenses, to ensure that they do not offset these gains.\n",
            "\n"
          ]
        }
      ],
      "source": [
        "#posting questions\n",
        "questions = [\n",
        "    #\"provide finanacial analysis as underwriter in financial company by going to complete context that has in company annual reports\",\n",
        "     #\"how is the revenue growth of company in 2023\",\n",
        "   \"\"\"\n",
        "  Analyze the financial data and provide a structured summary of revenue growth for the current and prior periods, using the keyword \"revenue\" to pick up relevant figures.\n",
        "\n",
        "Your response should include:\n",
        "\n",
        "1. Total revenue for the current and prior periods, expressed in the appropriate units (e.g., millions, billions).\n",
        "2. Year-over-year (y/y) change in revenue, including:\n",
        "    - Absolute change in dollars ($).\n",
        "    - Percentage change (%).\n",
        "3. Key factors contributing to the revenue change, with specific examples and data points from the financial statements to support your findings. If possible, quantify the impact of each factor on revenue in dollar terms.\n",
        "\"\"\",\n",
        "\"\"\"\n",
        "Analyze the 'transactions and integration costs' from the provided financial data.\n",
        "\n",
        "Your analysis should include the following:\n",
        "\n",
        "1. **Key Figures:** State the total 'transactions and integration costs' for the current and prior periods.\n",
        "2. **Change Analysis:** Calculate and state the year-over-year (y/y) change in 'transactions and integration costs,' including both the absolute value and percentage change.\n",
        "3. **Explanation of Changes:** Provide a detailed explanation for the observed change in 'transactions and integration costs,' including specific reasons and any contributing factors.\n",
        "Present your analysis in a clear and concise manner, using specific numerical values, dollar amounts, and percentages wherever applicable.\n",
        "\"\"\",\n",
        "\"\"\"\n",
        "Analyze the 'total operating expenses' from the provided financial data, focusing on the operating expense ratio, net operating profit, and revenue.\n",
        "\n",
        "Your analysis should include the following:\n",
        "\n",
        "1. Key Figures:\n",
        "    - State the total 'operating expenses' for the current period and prior period in millions.\n",
        "    - Include a breakdown of specific contributing factors and their impact on net operating profit, if available.\n",
        "    - What is the operating expense ratio for the current period and prior period, expressed as a percentage? How does the trend of operating expenses compare to revenue growth?\n",
        "2. Change Analysis:\n",
        "    - Calculate and state the year-over-year (y/y) change in 'operating expenses,' including both the absolute value (in $MM) and percentage change (%).\n",
        "    - What is the year-over-year change in net operating profit, expressed in both dollar amount ($MM) and percentage (%)?\n",
        "3. Explanation of Changes:\n",
        "    - Provide a detailed explanation for the observed change in 'operating expenses,' including specific reasons and any contributing factors.\n",
        "    - If possible, mention factors like lease and bad debt expenses and their impact in dollar terms, if they are relevant to the changes.\n",
        "\n",
        "Present your analysis in a clear and concise manner, using specific numerical values, dollar amounts, and percentages wherever applicable. Ensure you extract values directly from the 'Structured Income Statement Summary' if available in the financial data.\n",
        "\"\"\",\n",
        "\"\"\"\n",
        "Analyze the financial data provided and summarize the key financial performance for the recent fiscal year, focusing on revenue, cost of goods sold (COGS), gross profit, and gross profit margin.\n",
        "\n",
        "Your analysis should include:\n",
        "\n",
        "* **Key Figures:** Present the key financial figures for the current and prior periods for each of the metrics mentioned, including specific amounts and percentages. Show your calculations to derive these figures where possible, using the data provided in the context.\n",
        "* **Change Analysis:** Calculate and state the year-over-year (y/y) change for each metric, including both absolute values ($) and percentages (%).\n",
        "* **Explanation of Changes:** Provide concise and specific reasons for the observed changes in each metric, referencing the context and highlighting key factors driving the performance.\n",
        "* **Related Ratios and Metrics:** Include relevant financial ratios or metrics that provide further context (e.g., gross profit margin). Analyze their trends (stable, increased, decreased) and their impact on profitability.\n",
        "* **Impact on Profitability:** Discuss the overall impact of the changes on the company's profitability, highlighting key drivers and trends.\n",
        "\n",
        "Present your analysis in a clear and concise manner, using bullet points or numbered lists for clarity. Support your analysis with specific numerical values, dollar amounts, and percentages wherever applicable.\n",
        "\"\"\"\n",
        "]\n",
        "\n",
        "for question in questions:\n",
        "    print(f\"Question: {question}\")\n",
        "    print(f\"Answer: {chain.invoke({'question': question})}\")\n",
        "    print()"
      ]
    },
    {
      "cell_type": "code",
      "execution_count": 22,
      "metadata": {
        "colab": {
          "base_uri": "https://localhost:8080/"
        },
        "id": "ILYrrCLFRgKS",
        "outputId": "918a247d-19d7-4236-9e41-92b240b1b8b6"
      },
      "outputs": [
        {
          "name": "stdout",
          "output_type": "stream",
          "text": [
            "Collecting pyngrok\n",
            "  Downloading pyngrok-7.2.3-py3-none-any.whl.metadata (8.7 kB)\n",
            "Requirement already satisfied: PyYAML>=5.1 in /usr/local/lib/python3.11/dist-packages (from pyngrok) (6.0.2)\n",
            "Downloading pyngrok-7.2.3-py3-none-any.whl (23 kB)\n",
            "Installing collected packages: pyngrok\n",
            "Successfully installed pyngrok-7.2.3\n"
          ]
        }
      ],
      "source": [
        "!pip install pyngrok"
      ]
    },
    {
      "cell_type": "code",
      "execution_count": null,
      "metadata": {
        "colab": {
          "base_uri": "https://localhost:8080/"
        },
        "id": "BQL62d5g-AF9",
        "outputId": "b8e3d084-c2ae-4408-a18d-7cfd8465afc0"
      },
      "outputs": [
        {
          "name": "stdout",
          "output_type": "stream",
          "text": [
            " * ngrok tunnel \"https://7170-34-16-137-64.ngrok-free.app\" -> \"http://127.0.0.1:5000\"\n",
            " * Serving Flask app '__main__'\n",
            " * Debug mode: off\n"
          ]
        },
        {
          "name": "stderr",
          "output_type": "stream",
          "text": [
            "INFO:werkzeug:\u001b[31m\u001b[1mWARNING: This is a development server. Do not use it in a production deployment. Use a production WSGI server instead.\u001b[0m\n",
            " * Running on http://127.0.0.1:5000\n",
            "INFO:werkzeug:\u001b[33mPress CTRL+C to quit\u001b[0m\n"
          ]
        },
        {
          "name": "stdout",
          "output_type": "stream",
          "text": [
            "What is the revenue growth of the company in 2023?\n"
          ]
        },
        {
          "name": "stderr",
          "output_type": "stream",
          "text": [
            "INFO:werkzeug:127.0.0.1 - - [16/Feb/2025 17:18:39] \"POST /api/invoke HTTP/1.1\" 200 -\n",
            "INFO:werkzeug:127.0.0.1 - - [16/Feb/2025 17:19:58] \"\u001b[35m\u001b[1mPOST /api/invoke HTTP/1.1\u001b[0m\" 500 -\n"
          ]
        },
        {
          "name": "stdout",
          "output_type": "stream",
          "text": [
            "Analyze the financial data and provide a structured summary of revenue growth for the current and prior periods, using the keyword \"revenue\" to pick up relevant figures.\n",
            "\n",
            "Your response should include:\n",
            "\n",
            "1. Total revenue for the current and prior periods, expressed in the appropriate units (e.g., millions, billions).\n",
            "2. Year-over-year (y/y) change in revenue, including:\n",
            "    - Absolute change in dollars ($).\n",
            "    - Percentage change (%).\n",
            "3. Key factors contributing to the revenue change, with specific examples and data points from the financial statements to support your findings. If possible, quantify the impact of each factor on revenue in dollar terms.\n"
          ]
        },
        {
          "name": "stderr",
          "output_type": "stream",
          "text": [
            "INFO:werkzeug:127.0.0.1 - - [16/Feb/2025 17:22:02] \"POST /api/invoke HTTP/1.1\" 200 -\n"
          ]
        }
      ],
      "source": [
        "from flask import Flask, request, jsonify\n",
        "from pyngrok import ngrok\n",
        "\n",
        "app = Flask(__name__)\n",
        "\n",
        "@app.route('/api/invoke', methods=['POST'])\n",
        "def invoke_chain():\n",
        "    try:\n",
        "        data = request.get_json(force=True)\n",
        "        question = data.get('question')\n",
        "        if question:\n",
        "            print(question)\n",
        "            result = chain.invoke({'question': question})\n",
        "            return jsonify({'result': result}), 200\n",
        "        else:\n",
        "            return jsonify({'error': 'Missing \"question\" in request body'}), 400\n",
        "    except Exception as e:\n",
        "        return jsonify({'error': str(e)}), 500\n",
        "\n",
        "if __name__ == '__main__':\n",
        "    # Open a ngrok tunnel to the HTTP server\n",
        "    ngrok.set_auth_token(\"<authotoken>\") # signup and get auth token from https://dashboard.ngrok.com/get-started/your-authtoken\n",
        "    public_url = ngrok.connect(5000).public_url\n",
        "    print(' * ngrok tunnel \"{}\" -> \"http://127.0.0.1:5000\"'.format(public_url))\n",
        "    app.run(port=5000)\n",
        "\n",
        "#curl command to make call from local curl -X POST https://7170-34-16-137-64.ngrok-free.app/api/invoke -H \"Content-Type: application/json\" --data-binary @\"data.json\""
      ]
    }
  ],
  "metadata": {
    "accelerator": "GPU",
    "colab": {
      "gpuType": "T4",
      "provenance": []
    },
    "kernelspec": {
      "display_name": "Python 3",
      "name": "python3"
    },
    "language_info": {
      "name": "python"
    }
  },
  "nbformat": 4,
  "nbformat_minor": 0
}
