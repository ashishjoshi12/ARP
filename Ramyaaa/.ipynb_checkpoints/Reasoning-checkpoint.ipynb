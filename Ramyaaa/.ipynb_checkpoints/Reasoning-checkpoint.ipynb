{
 "cells": [
  {
   "cell_type": "code",
   "execution_count": 1,
   "id": "fa913bde",
   "metadata": {},
   "outputs": [
    {
     "name": "stdout",
     "output_type": "stream",
     "text": [
      "Collecting pdf2image\n",
      "  Downloading pdf2image-1.17.0-py3-none-any.whl (11 kB)\n",
      "Collecting pytesseract\n",
      "  Downloading pytesseract-0.3.13-py3-none-any.whl (14 kB)\n",
      "Requirement already satisfied: opencv-python in c:\\users\\melod\\anaconda3\\lib\\site-packages (4.7.0.72)\n",
      "Collecting llama-cpp-python\n",
      "  Downloading llama_cpp_python-0.3.7.tar.gz (66.7 MB)\n",
      "     ---------------------------------------- 66.7/66.7 MB 3.1 MB/s eta 0:00:00\n",
      "  Installing build dependencies: started\n",
      "  Installing build dependencies: finished with status 'done'\n",
      "  Getting requirements to build wheel: started\n",
      "  Getting requirements to build wheel: finished with status 'done'\n",
      "  Installing backend dependencies: started\n",
      "  Installing backend dependencies: finished with status 'done'\n",
      "  Preparing metadata (pyproject.toml): started\n",
      "  Preparing metadata (pyproject.toml): finished with status 'done'\n",
      "Requirement already satisfied: pandas in c:\\users\\melod\\anaconda3\\lib\\site-packages (1.4.4)\n",
      "Requirement already satisfied: ipywidgets in c:\\users\\melod\\anaconda3\\lib\\site-packages (7.6.5)\n",
      "Requirement already satisfied: pillow in c:\\users\\melod\\anaconda3\\lib\\site-packages (from pdf2image) (9.2.0)\n",
      "Requirement already satisfied: packaging>=21.3 in c:\\users\\melod\\anaconda3\\lib\\site-packages (from pytesseract) (21.3)\n",
      "Requirement already satisfied: numpy>=1.17.3 in c:\\users\\melod\\anaconda3\\lib\\site-packages (from opencv-python) (1.23.5)\n",
      "Collecting typing-extensions>=4.5.0\n",
      "  Downloading typing_extensions-4.12.2-py3-none-any.whl (37 kB)\n",
      "Requirement already satisfied: jinja2>=2.11.3 in c:\\users\\melod\\anaconda3\\lib\\site-packages (from llama-cpp-python) (2.11.3)\n",
      "Collecting diskcache>=5.6.1\n",
      "  Downloading diskcache-5.6.3-py3-none-any.whl (45 kB)\n",
      "     ---------------------------------------- 45.5/45.5 kB 2.4 MB/s eta 0:00:00\n",
      "Requirement already satisfied: python-dateutil>=2.8.1 in c:\\users\\melod\\anaconda3\\lib\\site-packages (from pandas) (2.8.2)\n",
      "Requirement already satisfied: pytz>=2020.1 in c:\\users\\melod\\anaconda3\\lib\\site-packages (from pandas) (2022.1)\n",
      "Requirement already satisfied: jupyterlab-widgets>=1.0.0 in c:\\users\\melod\\anaconda3\\lib\\site-packages (from ipywidgets) (1.0.0)\n",
      "Requirement already satisfied: ipython>=4.0.0 in c:\\users\\melod\\anaconda3\\lib\\site-packages (from ipywidgets) (7.31.1)\n",
      "Requirement already satisfied: ipython-genutils~=0.2.0 in c:\\users\\melod\\anaconda3\\lib\\site-packages (from ipywidgets) (0.2.0)\n",
      "Requirement already satisfied: ipykernel>=4.5.1 in c:\\users\\melod\\anaconda3\\lib\\site-packages (from ipywidgets) (6.15.2)\n",
      "Requirement already satisfied: widgetsnbextension~=3.5.0 in c:\\users\\melod\\anaconda3\\lib\\site-packages (from ipywidgets) (3.5.2)\n",
      "Requirement already satisfied: nbformat>=4.2.0 in c:\\users\\melod\\anaconda3\\lib\\site-packages (from ipywidgets) (5.5.0)\n",
      "Requirement already satisfied: traitlets>=4.3.1 in c:\\users\\melod\\anaconda3\\lib\\site-packages (from ipywidgets) (5.1.1)\n",
      "Requirement already satisfied: debugpy>=1.0 in c:\\users\\melod\\anaconda3\\lib\\site-packages (from ipykernel>=4.5.1->ipywidgets) (1.5.1)\n",
      "Requirement already satisfied: jupyter-client>=6.1.12 in c:\\users\\melod\\anaconda3\\lib\\site-packages (from ipykernel>=4.5.1->ipywidgets) (7.3.4)\n",
      "Requirement already satisfied: pyzmq>=17 in c:\\users\\melod\\anaconda3\\lib\\site-packages (from ipykernel>=4.5.1->ipywidgets) (23.2.0)\n",
      "Requirement already satisfied: psutil in c:\\users\\melod\\anaconda3\\lib\\site-packages (from ipykernel>=4.5.1->ipywidgets) (5.9.0)\n",
      "Requirement already satisfied: tornado>=6.1 in c:\\users\\melod\\anaconda3\\lib\\site-packages (from ipykernel>=4.5.1->ipywidgets) (6.1)\n",
      "Requirement already satisfied: nest-asyncio in c:\\users\\melod\\anaconda3\\lib\\site-packages (from ipykernel>=4.5.1->ipywidgets) (1.5.5)\n",
      "Requirement already satisfied: matplotlib-inline>=0.1 in c:\\users\\melod\\anaconda3\\lib\\site-packages (from ipykernel>=4.5.1->ipywidgets) (0.1.6)\n",
      "Requirement already satisfied: backcall in c:\\users\\melod\\anaconda3\\lib\\site-packages (from ipython>=4.0.0->ipywidgets) (0.2.0)\n",
      "Requirement already satisfied: prompt-toolkit!=3.0.0,!=3.0.1,<3.1.0,>=2.0.0 in c:\\users\\melod\\anaconda3\\lib\\site-packages (from ipython>=4.0.0->ipywidgets) (3.0.20)\n",
      "Requirement already satisfied: colorama in c:\\users\\melod\\anaconda3\\lib\\site-packages (from ipython>=4.0.0->ipywidgets) (0.4.5)\n",
      "Requirement already satisfied: setuptools>=18.5 in c:\\users\\melod\\anaconda3\\lib\\site-packages (from ipython>=4.0.0->ipywidgets) (67.8.0)\n",
      "Requirement already satisfied: jedi>=0.16 in c:\\users\\melod\\anaconda3\\lib\\site-packages (from ipython>=4.0.0->ipywidgets) (0.18.1)\n",
      "Requirement already satisfied: decorator in c:\\users\\melod\\anaconda3\\lib\\site-packages (from ipython>=4.0.0->ipywidgets) (5.1.1)\n",
      "Requirement already satisfied: pickleshare in c:\\users\\melod\\anaconda3\\lib\\site-packages (from ipython>=4.0.0->ipywidgets) (0.7.5)\n",
      "Requirement already satisfied: pygments in c:\\users\\melod\\anaconda3\\lib\\site-packages (from ipython>=4.0.0->ipywidgets) (2.17.2)\n",
      "Requirement already satisfied: MarkupSafe>=0.23 in c:\\users\\melod\\anaconda3\\lib\\site-packages (from jinja2>=2.11.3->llama-cpp-python) (2.0.1)\n",
      "Requirement already satisfied: fastjsonschema in c:\\users\\melod\\anaconda3\\lib\\site-packages (from nbformat>=4.2.0->ipywidgets) (2.16.2)\n",
      "Requirement already satisfied: jupyter_core in c:\\users\\melod\\anaconda3\\lib\\site-packages (from nbformat>=4.2.0->ipywidgets) (4.11.1)\n",
      "Requirement already satisfied: jsonschema>=2.6 in c:\\users\\melod\\anaconda3\\lib\\site-packages (from nbformat>=4.2.0->ipywidgets) (4.16.0)\n",
      "Requirement already satisfied: pyparsing!=3.0.5,>=2.0.2 in c:\\users\\melod\\anaconda3\\lib\\site-packages (from packaging>=21.3->pytesseract) (3.0.9)\n",
      "Requirement already satisfied: six>=1.5 in c:\\users\\melod\\anaconda3\\lib\\site-packages (from python-dateutil>=2.8.1->pandas) (1.16.0)\n",
      "Requirement already satisfied: notebook>=4.4.1 in c:\\users\\melod\\anaconda3\\lib\\site-packages (from widgetsnbextension~=3.5.0->ipywidgets) (6.4.12)\n",
      "Requirement already satisfied: parso<0.9.0,>=0.8.0 in c:\\users\\melod\\anaconda3\\lib\\site-packages (from jedi>=0.16->ipython>=4.0.0->ipywidgets) (0.8.3)\n",
      "Requirement already satisfied: attrs>=17.4.0 in c:\\users\\melod\\anaconda3\\lib\\site-packages (from jsonschema>=2.6->nbformat>=4.2.0->ipywidgets) (21.4.0)\n",
      "Requirement already satisfied: pyrsistent!=0.17.0,!=0.17.1,!=0.17.2,>=0.14.0 in c:\\users\\melod\\anaconda3\\lib\\site-packages (from jsonschema>=2.6->nbformat>=4.2.0->ipywidgets) (0.18.0)\n",
      "Requirement already satisfied: entrypoints in c:\\users\\melod\\anaconda3\\lib\\site-packages (from jupyter-client>=6.1.12->ipykernel>=4.5.1->ipywidgets) (0.4)\n",
      "Requirement already satisfied: pywin32>=1.0 in c:\\users\\melod\\anaconda3\\lib\\site-packages (from jupyter_core->nbformat>=4.2.0->ipywidgets) (302)\n",
      "Requirement already satisfied: terminado>=0.8.3 in c:\\users\\melod\\anaconda3\\lib\\site-packages (from notebook>=4.4.1->widgetsnbextension~=3.5.0->ipywidgets) (0.13.1)\n",
      "Requirement already satisfied: argon2-cffi in c:\\users\\melod\\anaconda3\\lib\\site-packages (from notebook>=4.4.1->widgetsnbextension~=3.5.0->ipywidgets) (21.3.0)\n",
      "Requirement already satisfied: nbconvert>=5 in c:\\users\\melod\\anaconda3\\lib\\site-packages (from notebook>=4.4.1->widgetsnbextension~=3.5.0->ipywidgets) (6.4.4)\n",
      "Requirement already satisfied: prometheus-client in c:\\users\\melod\\anaconda3\\lib\\site-packages (from notebook>=4.4.1->widgetsnbextension~=3.5.0->ipywidgets) (0.14.1)\n",
      "Requirement already satisfied: Send2Trash>=1.8.0 in c:\\users\\melod\\anaconda3\\lib\\site-packages (from notebook>=4.4.1->widgetsnbextension~=3.5.0->ipywidgets) (1.8.0)\n",
      "Requirement already satisfied: wcwidth in c:\\users\\melod\\anaconda3\\lib\\site-packages (from prompt-toolkit!=3.0.0,!=3.0.1,<3.1.0,>=2.0.0->ipython>=4.0.0->ipywidgets) (0.2.5)\n",
      "Requirement already satisfied: jupyterlab-pygments in c:\\users\\melod\\anaconda3\\lib\\site-packages (from nbconvert>=5->notebook>=4.4.1->widgetsnbextension~=3.5.0->ipywidgets) (0.1.2)\n",
      "Requirement already satisfied: beautifulsoup4 in c:\\users\\melod\\anaconda3\\lib\\site-packages (from nbconvert>=5->notebook>=4.4.1->widgetsnbextension~=3.5.0->ipywidgets) (4.11.1)\n",
      "Requirement already satisfied: nbclient<0.6.0,>=0.5.0 in c:\\users\\melod\\anaconda3\\lib\\site-packages (from nbconvert>=5->notebook>=4.4.1->widgetsnbextension~=3.5.0->ipywidgets) (0.5.13)\n",
      "Requirement already satisfied: pandocfilters>=1.4.1 in c:\\users\\melod\\anaconda3\\lib\\site-packages (from nbconvert>=5->notebook>=4.4.1->widgetsnbextension~=3.5.0->ipywidgets) (1.5.0)\n",
      "Requirement already satisfied: testpath in c:\\users\\melod\\anaconda3\\lib\\site-packages (from nbconvert>=5->notebook>=4.4.1->widgetsnbextension~=3.5.0->ipywidgets) (0.6.0)\n",
      "Requirement already satisfied: mistune<2,>=0.8.1 in c:\\users\\melod\\anaconda3\\lib\\site-packages (from nbconvert>=5->notebook>=4.4.1->widgetsnbextension~=3.5.0->ipywidgets) (0.8.4)\n",
      "Requirement already satisfied: bleach in c:\\users\\melod\\anaconda3\\lib\\site-packages (from nbconvert>=5->notebook>=4.4.1->widgetsnbextension~=3.5.0->ipywidgets) (4.1.0)\n",
      "Requirement already satisfied: defusedxml in c:\\users\\melod\\anaconda3\\lib\\site-packages (from nbconvert>=5->notebook>=4.4.1->widgetsnbextension~=3.5.0->ipywidgets) (0.7.1)\n",
      "Requirement already satisfied: pywinpty>=1.1.0 in c:\\users\\melod\\anaconda3\\lib\\site-packages (from terminado>=0.8.3->notebook>=4.4.1->widgetsnbextension~=3.5.0->ipywidgets) (2.0.2)\n",
      "Requirement already satisfied: argon2-cffi-bindings in c:\\users\\melod\\anaconda3\\lib\\site-packages (from argon2-cffi->notebook>=4.4.1->widgetsnbextension~=3.5.0->ipywidgets) (21.2.0)\n",
      "Requirement already satisfied: cffi>=1.0.1 in c:\\users\\melod\\anaconda3\\lib\\site-packages (from argon2-cffi-bindings->argon2-cffi->notebook>=4.4.1->widgetsnbextension~=3.5.0->ipywidgets) (1.15.1)\n",
      "Requirement already satisfied: soupsieve>1.2 in c:\\users\\melod\\anaconda3\\lib\\site-packages (from beautifulsoup4->nbconvert>=5->notebook>=4.4.1->widgetsnbextension~=3.5.0->ipywidgets) (2.3.1)\n",
      "Requirement already satisfied: webencodings in c:\\users\\melod\\anaconda3\\lib\\site-packages (from bleach->nbconvert>=5->notebook>=4.4.1->widgetsnbextension~=3.5.0->ipywidgets) (0.5.1)\n",
      "Requirement already satisfied: pycparser in c:\\users\\melod\\anaconda3\\lib\\site-packages (from cffi>=1.0.1->argon2-cffi-bindings->argon2-cffi->notebook>=4.4.1->widgetsnbextension~=3.5.0->ipywidgets) (2.21)\n",
      "Building wheels for collected packages: llama-cpp-python\n",
      "  Building wheel for llama-cpp-python (pyproject.toml): started\n",
      "  Building wheel for llama-cpp-python (pyproject.toml): finished with status 'error'\n",
      "Failed to build llama-cpp-python\n"
     ]
    },
    {
     "name": "stderr",
     "output_type": "stream",
     "text": [
      "  error: subprocess-exited-with-error\n",
      "  \n",
      "  Building wheel for llama-cpp-python (pyproject.toml) did not run successfully.\n",
      "  exit code: 1\n",
      "  \n",
      "  [20 lines of output]\n",
      "  *** scikit-build-core 0.10.7 using CMake 3.31.4 (wheel)\n",
      "  *** Configuring CMake...\n",
      "  2025-02-04 23:13:00,516 - scikit_build_core - WARNING - Can't find a Python library, got libdir=None, ldlibrary=None, multiarch=None, masd=None\n",
      "  loading initial cache file C:\\Users\\melod\\AppData\\Local\\Temp\\tmpwsx0pt38\\build\\CMakeInit.txt\n",
      "  -- Building for: NMake Makefiles\n",
      "  CMake Error at CMakeLists.txt:3 (project):\n",
      "    Running\n",
      "  \n",
      "     'nmake' '-?'\n",
      "  \n",
      "    failed with:\n",
      "  \n",
      "     no such file or directory\n",
      "  \n",
      "  \n",
      "  CMake Error: CMAKE_C_COMPILER not set, after EnableLanguage\n",
      "  CMake Error: CMAKE_CXX_COMPILER not set, after EnableLanguage\n",
      "  -- Configuring incomplete, errors occurred!\n",
      "  \n",
      "  *** CMake configuration failed\n",
      "  [end of output]\n",
      "  \n",
      "  note: This error originates from a subprocess, and is likely not a problem with pip.\n",
      "  ERROR: Failed building wheel for llama-cpp-python\n",
      "ERROR: Could not build wheels for llama-cpp-python, which is required to install pyproject.toml-based projects\n"
     ]
    }
   ],
   "source": [
    "# Install required libraries\n",
    "#pip install pdf2image pytesseract opencv-python ollama pandas"
   ]
  },
  {
   "cell_type": "code",
   "execution_count": 12,
   "id": "217090a6",
   "metadata": {},
   "outputs": [],
   "source": [
    "import pytesseract\n",
    "from pdf2image import convert_from_path\n",
    "import cv2\n",
    "import numpy as np\n",
    "import pandas as pd\n",
    "import json\n",
    "import ollama\n",
    "from IPython.display import display, Markdown\n",
    "import ipywidgets as widgets\n",
    "import os"
   ]
  },
  {
   "cell_type": "code",
   "execution_count": 13,
   "id": "5b50636e",
   "metadata": {},
   "outputs": [],
   "source": [
    "# Convert PDF to images\n",
    "def pdf_to_images(pdf_path):\n",
    "    return convert_from_path(pdf_path, dpi=300)"
   ]
  },
  {
   "cell_type": "code",
   "execution_count": 14,
   "id": "6e30b4c2",
   "metadata": {},
   "outputs": [],
   "source": [
    "# Extract text using Tesseract OCR\n",
    "def extract_text_from_images(images):\n",
    "    extracted_text = \"\"\n",
    "    for img in images:\n",
    "        text = pytesseract.image_to_string(img)\n",
    "        extracted_text += text + \"\\n\"\n",
    "    return extracted_text"
   ]
  },
  {
   "cell_type": "code",
   "execution_count": 15,
   "id": "a46b150c",
   "metadata": {},
   "outputs": [],
   "source": [
    "# Extract tables using OpenCV & Tesseract\n",
    "def extract_tables_from_images(images):\n",
    "    tables = []\n",
    "    for img in images:\n",
    "        gray = cv2.cvtColor(np.array(img), cv2.COLOR_RGB2GRAY)\n",
    "        thresh = cv2.adaptiveThreshold(gray, 255, cv2.ADAPTIVE_THRESH_GAUSSIAN_C, cv2.THRESH_BINARY, 11, 2)\n",
    "        table_text = pytesseract.image_to_string(thresh, config=\"--psm 6\")\n",
    "\n",
    "        # Convert text into structured table format\n",
    "        table_lines = [line.split() for line in table_text.split(\"\\n\") if line.strip()]\n",
    "        if table_lines:\n",
    "            df = pd.DataFrame(table_lines)\n",
    "            tables.append(df)\n",
    "\n",
    "    return tables"
   ]
  },
  {
   "cell_type": "code",
   "execution_count": 16,
   "id": "240d23fa",
   "metadata": {},
   "outputs": [],
   "source": [
    "# Process PDF and extract structured data\n",
    "def process_pdf(pdf_path):\n",
    "    images = pdf_to_images(pdf_path)\n",
    "    text = extract_text_from_images(images)\n",
    "    tables = extract_tables_from_images(images)\n",
    "    return {\"text\": text, \"tables\": tables}"
   ]
  },
  {
   "cell_type": "code",
   "execution_count": 23,
   "id": "17f9248b",
   "metadata": {},
   "outputs": [],
   "source": [
    "#Identification Layer\n",
    "def identLayer(text, table_data, table_item):\n",
    "    prompt = f\"\"\"\n",
    "    You are an AI analyst that extracts insights by reasoning over structured data.\n",
    "\n",
    "    Extracted Information From The Document is:\n",
    "    {text}\n",
    "\n",
    "    Extracted Table Data:\n",
    "    {json.dumps([table.to_dict() for table in table_data], indent=2)}\n",
    "\n",
    "    Fetch table line item \"{table_item}\" and identify its trend over the specified period in the document.\n",
    "    \"\"\"\n",
    "\n",
    "    response = ollama.chat(model=\"llama3\", messages=[{\"role\": \"user\", \"content\": prompt}])\n",
    "    return response['message']['content']"
   ]
  },
  {
   "cell_type": "code",
   "execution_count": 24,
   "id": "d8cd13b3",
   "metadata": {},
   "outputs": [],
   "source": [
    "def getIdentLayerResponse(pdf_path, table_item):\n",
    "    data = process_pdf(pdf_path)\n",
    "    response = infoExtLayer(data[\"text\"], data[\"tables\"], table_item)\n",
    "    return response"
   ]
  },
  {
   "cell_type": "code",
   "execution_count": 25,
   "id": "9c9df90a",
   "metadata": {},
   "outputs": [],
   "source": [
    "#Information Extraction Layer\n",
    "def infoExtLayer(text, table_data, table_item):\n",
    "    prompt = f\"\"\"\n",
    "    You are an AI analyst that extracts insights by reasoning over structured data.\n",
    "\n",
    "    Extracted Information From The Document is:\n",
    "    {text}\n",
    "\n",
    "    Extracted Table Data:\n",
    "    {json.dumps([table.to_dict() for table in table_data], indent=2)}\n",
    "\n",
    "    Focus only on the specific table line item: \"{table_item}\".\n",
    "    - Identify this item in the Income Statement Summary table.\n",
    "    - Collect all the related information related to \"{table_item}\" in the extracted text.\n",
    "    - Provide all the structured facts and insights from the document and respond concisely.\n",
    "    \"\"\"\n",
    "\n",
    "    response = ollama.chat(model=\"llama3\", messages=[{\"role\": \"user\", \"content\": prompt}])\n",
    "    return response['message']['content']"
   ]
  },
  {
   "cell_type": "code",
   "execution_count": 26,
   "id": "46c6ca83",
   "metadata": {},
   "outputs": [],
   "source": [
    "def getInfoExtLayerResponse(pdf_path, table_item):\n",
    "    data = process_pdf(pdf_path)\n",
    "    response = infoExtLayer(data[\"text\"], data[\"tables\"], table_item)\n",
    "    return response"
   ]
  },
  {
   "cell_type": "code",
   "execution_count": 27,
   "id": "d6322efd",
   "metadata": {},
   "outputs": [],
   "source": [
    "#Reasoning/Implication Layer\n",
    "def reasLayer(rules, text, table_item):\n",
    "    prompt = f\"\"\"\n",
    "    You are an AI analyst that extracts insights by reasoning over structured data.\n",
    "\n",
    "    Given below are the facts and insights gathered from the given document about the line item {table_item}.\n",
    "    {text}\n",
    "    \n",
    "    Here are a few factors that have an impact on the item: {table_item} :\n",
    "    \n",
    "    {rules}\n",
    "\n",
    "    Focus only on the specific table line item: \"{table_item}\" and using the rules :\n",
    "    - Identify the factors affecting {table_item} and correlate a few references of those factors from the text.\n",
    "    - Pick up cause-effect relationships from the text corresponding to the factors present in the rules.\n",
    "    - Collect a set of implications or reasons that attributed to the observed change in {table_item}.\n",
    "    - List them concisely with quoted reference to statistical data and informational evidence from the text.\n",
    "    \"\"\"\n",
    "\n",
    "    response = ollama.chat(model=\"llama3\", messages=[{\"role\": \"user\", \"content\": prompt}])\n",
    "    return response['message']['content']"
   ]
  },
  {
   "cell_type": "code",
   "execution_count": 21,
   "id": "6c80e6cc",
   "metadata": {},
   "outputs": [],
   "source": [
    "def getReasLayerResponse(rules, text, table_item):\n",
    "    response = reasLayer(rules, text, table_item)\n",
    "    return response"
   ]
  },
  {
   "cell_type": "code",
   "execution_count": null,
   "id": "2d930d84",
   "metadata": {},
   "outputs": [],
   "source": [
    "trend = getIdentLayerResponse(\"2023-annual-report.pdf\", \"Net Interest Income\")"
   ]
  },
  {
   "cell_type": "code",
   "execution_count": 28,
   "id": "805bc0e3",
   "metadata": {},
   "outputs": [
    {
     "name": "stdout",
     "output_type": "stream",
     "text": [
      "Net Interest Income increased from **$35,779 million in 2021** to **$44,950 million in 2022 (26%)**, and to **$52,375 million in 2023 (17%)**.\n"
     ]
    }
   ],
   "source": [
    "trend"
   ]
  },
  {
   "cell_type": "code",
   "execution_count": null,
   "id": "79116cb2",
   "metadata": {},
   "outputs": [],
   "source": [
    "layer1_response = getInfoExtLayerResponse(\"2023-annual-report.pdf\", \"Net Interest Income\")"
   ]
  },
  {
   "cell_type": "code",
   "execution_count": 32,
   "id": "547f7cae",
   "metadata": {},
   "outputs": [
    {
     "name": "stdout",
     "output_type": "stream",
     "text": [
      "### **Net Interest Income - Insights and Structured Facts from the 2023 Annual Report**\n",
      "\n",
      "#### **Definition and Overview:**\n",
      "Net Interest Income (NII) is the interest earned on debt securities, loans (including yield-related loan fees), and other interest-earning assets minus the interest paid on deposits, short-term borrowings, and long-term debt.\n",
      "\n",
      "#### **Financial Performance in 2023:**\n",
      "- **Net Interest Income (NII) for 2023**: $52.38 billion (compared to $44.95 billion in 2022).\n",
      "- **Increase in NII**: **$7.4 billion** driven by higher interest rates, leading to increased income from interest-earning assets.\n",
      "- **Net Interest Margin**: Increased from **2.63% in 2022 to 3.06% in 2023**.\n",
      "\n",
      "#### **Breakdown of Interest Income and Expense:**\n",
      "- **Interest income rose by $31.08 billion**, mainly due to higher loan yields and securities income.\n",
      "- **Interest expense increased by $23.67 billion**, driven by higher rates on deposits and long-term debt.\n",
      "\n",
      "#### **Segment Contributions to Net Interest Income:**\n",
      "| Business Segment | 2023 NII (in billions) | 2022 NII (in billions) | % Change |\n",
      "|-----------------|----------------|----------------|----------|\n",
      "| Consumer Banking & Lending | $30.19 | $27.04 | +12% |\n",
      "| Commercial Banking | $10.03 | $7.29 | +37.5% |\n",
      "| Corporate & Investment Banking | $9.50 | $8.73 | +8.8% |\n",
      "| Wealth & Investment Management | $3.97 | $3.93 | +1% |\n",
      "| Corporate | $(0.89) | $(1.61) | N/A |\n",
      "| **Total** | **$52.38** | **$44.95** | **+16.5%** |\n",
      "\n",
      "#### **Comparison to Previous Years:**\n",
      "- **2022 NII**: $44.95 billion (increased from $35.78 billion in 2021).\n",
      "- **2021 NII**: $35.78 billion.\n",
      "- **Growth in NII (2021-2023)**: A cumulative **46.4% increase over two years**, primarily due to the rising interest rate environment.\n",
      "\n",
      "Would you like any further breakdowns, such as segment-specific details or comparisons to competitors? \n"
     ]
    }
   ],
   "source": [
    "layer1_response"
   ]
  },
  {
   "cell_type": "code",
   "execution_count": null,
   "id": "212b664d",
   "metadata": {},
   "outputs": [],
   "source": [
    "rules = \"\"\"\n",
    "Key Factors Affecting NII:\n",
    "- The mix and overall size of the earning assets portfolio.\n",
    "- The cost of funding those assets.\n",
    "- Variable sources of interest income, such as loan fees, periodic dividends, and collection of interest on nonaccrual loans.\n",
    "- Changes in interest rates, impacting both income from assets and expenses on interest-bearing deposits and debt.\n",
    "\n",
    "\"\"\""
   ]
  },
  {
   "cell_type": "code",
   "execution_count": 34,
   "id": "fed1725a",
   "metadata": {},
   "outputs": [
    {
     "name": "stdout",
     "output_type": "stream",
     "text": [
      "\n",
      "#### **Insights and Implications:**\n",
      "\n",
      "The increase in **Net Interest Income (NII) from $44,950 million in 2022 to $52,375 million in 2023 (17%)** was driven by:  \n",
      "\n",
      "\n",
      "1. **Interest Rate Sensitivity**: The bank's NII is highly sensitive to interest rate movements. The rise in interest rates on **loans and debt securities** not only significantly benefited NII but also increased funding costs, thus contributing to a **$7.4 billion increase in NII**.\n",
      "2. **Deposit Costs Rising**: Higher interest rates led to an increase in expenses on interest-bearing deposits, impacting overall profitability.\n",
      "3. **Earning Assets Growth:** The **loan portfolio grew**, particularly in **commercial and consumer loans**, leading to higher interest income.\n",
      "4. **Loan Portfolio Impact**: Higher yields on loans contributed positively, but fluctuations in the loan mix can impact future NII performance.\n",
      "5. **Higher Loan Yields:** Yields on loans and securities improved, **boosting income from variable sources such as loan fees and interest on nonaccrual loans**. \n",
      "6. **Increased Funding Costs:** While **interest expenses on deposits and long-term debt also rose**, the overall impact remained positive due to **strong loan growth and higher spreads**.  \n",
      "7. **Market Conditions**: Future changes in monetary policy and interest rates will play a crucial role in NII trends going forward.\n",
      "\n",
      "Would you like a more detailed breakdown by asset class or interest-earning segments?\n",
      "\n"
     ]
    }
   ],
   "source": [
    "getReasLayerResponse(rules, layer1_response, trend)"
   ]
  },
  {
   "cell_type": "code",
   "execution_count": 35,
   "id": "b7e77702",
   "metadata": {},
   "outputs": [],
   "source": [
    "##JPMC"
   ]
  },
  {
   "cell_type": "code",
   "execution_count": 37,
   "id": "12a1e99f",
   "metadata": {},
   "outputs": [
    {
     "ename": "PDFInfoNotInstalledError",
     "evalue": "Unable to get page count. Is poppler installed and in PATH?",
     "output_type": "error",
     "traceback": [
      "\u001b[1;31m---------------------------------------------------------------------------\u001b[0m",
      "\u001b[1;31mFileNotFoundError\u001b[0m                         Traceback (most recent call last)",
      "\u001b[1;32m~\\anaconda3\\lib\\site-packages\\pdf2image\\pdf2image.py\u001b[0m in \u001b[0;36mpdfinfo_from_path\u001b[1;34m(pdf_path, userpw, ownerpw, poppler_path, rawdates, timeout, first_page, last_page)\u001b[0m\n\u001b[0;32m    580\u001b[0m             \u001b[0menv\u001b[0m\u001b[1;33m[\u001b[0m\u001b[1;34m\"LD_LIBRARY_PATH\"\u001b[0m\u001b[1;33m]\u001b[0m \u001b[1;33m=\u001b[0m \u001b[0mpoppler_path\u001b[0m \u001b[1;33m+\u001b[0m \u001b[1;34m\":\"\u001b[0m \u001b[1;33m+\u001b[0m \u001b[0menv\u001b[0m\u001b[1;33m.\u001b[0m\u001b[0mget\u001b[0m\u001b[1;33m(\u001b[0m\u001b[1;34m\"LD_LIBRARY_PATH\"\u001b[0m\u001b[1;33m,\u001b[0m \u001b[1;34m\"\"\u001b[0m\u001b[1;33m)\u001b[0m\u001b[1;33m\u001b[0m\u001b[1;33m\u001b[0m\u001b[0m\n\u001b[1;32m--> 581\u001b[1;33m         \u001b[0mproc\u001b[0m \u001b[1;33m=\u001b[0m \u001b[0mPopen\u001b[0m\u001b[1;33m(\u001b[0m\u001b[0mcommand\u001b[0m\u001b[1;33m,\u001b[0m \u001b[0menv\u001b[0m\u001b[1;33m=\u001b[0m\u001b[0menv\u001b[0m\u001b[1;33m,\u001b[0m \u001b[0mstdout\u001b[0m\u001b[1;33m=\u001b[0m\u001b[0mPIPE\u001b[0m\u001b[1;33m,\u001b[0m \u001b[0mstderr\u001b[0m\u001b[1;33m=\u001b[0m\u001b[0mPIPE\u001b[0m\u001b[1;33m)\u001b[0m\u001b[1;33m\u001b[0m\u001b[1;33m\u001b[0m\u001b[0m\n\u001b[0m\u001b[0;32m    582\u001b[0m \u001b[1;33m\u001b[0m\u001b[0m\n",
      "\u001b[1;32m~\\anaconda3\\lib\\subprocess.py\u001b[0m in \u001b[0;36m__init__\u001b[1;34m(self, args, bufsize, executable, stdin, stdout, stderr, preexec_fn, close_fds, shell, cwd, env, universal_newlines, startupinfo, creationflags, restore_signals, start_new_session, pass_fds, user, group, extra_groups, encoding, errors, text, umask)\u001b[0m\n\u001b[0;32m    950\u001b[0m \u001b[1;33m\u001b[0m\u001b[0m\n\u001b[1;32m--> 951\u001b[1;33m             self._execute_child(args, executable, preexec_fn, close_fds,\n\u001b[0m\u001b[0;32m    952\u001b[0m                                 \u001b[0mpass_fds\u001b[0m\u001b[1;33m,\u001b[0m \u001b[0mcwd\u001b[0m\u001b[1;33m,\u001b[0m \u001b[0menv\u001b[0m\u001b[1;33m,\u001b[0m\u001b[1;33m\u001b[0m\u001b[1;33m\u001b[0m\u001b[0m\n",
      "\u001b[1;32m~\\anaconda3\\lib\\subprocess.py\u001b[0m in \u001b[0;36m_execute_child\u001b[1;34m(self, args, executable, preexec_fn, close_fds, pass_fds, cwd, env, startupinfo, creationflags, shell, p2cread, p2cwrite, c2pread, c2pwrite, errread, errwrite, unused_restore_signals, unused_gid, unused_gids, unused_uid, unused_umask, unused_start_new_session)\u001b[0m\n\u001b[0;32m   1419\u001b[0m             \u001b[1;32mtry\u001b[0m\u001b[1;33m:\u001b[0m\u001b[1;33m\u001b[0m\u001b[1;33m\u001b[0m\u001b[0m\n\u001b[1;32m-> 1420\u001b[1;33m                 hp, ht, pid, tid = _winapi.CreateProcess(executable, args,\n\u001b[0m\u001b[0;32m   1421\u001b[0m                                          \u001b[1;31m# no special security\u001b[0m\u001b[1;33m\u001b[0m\u001b[1;33m\u001b[0m\u001b[0m\n",
      "\u001b[1;31mFileNotFoundError\u001b[0m: [WinError 2] The system cannot find the file specified",
      "\nDuring handling of the above exception, another exception occurred:\n",
      "\u001b[1;31mPDFInfoNotInstalledError\u001b[0m                  Traceback (most recent call last)",
      "\u001b[1;32m~\\AppData\\Local\\Temp\\ipykernel_26444\\3008694209.py\u001b[0m in \u001b[0;36m<module>\u001b[1;34m\u001b[0m\n\u001b[1;32m----> 1\u001b[1;33m \u001b[0mtrend\u001b[0m \u001b[1;33m=\u001b[0m \u001b[0mgetIdentLayerResponse\u001b[0m\u001b[1;33m(\u001b[0m\u001b[1;34m\"annualreport-2023_jpmc.pdf\"\u001b[0m\u001b[1;33m,\u001b[0m \u001b[1;34m\"Return on Common Equity\"\u001b[0m\u001b[1;33m)\u001b[0m\u001b[1;33m\u001b[0m\u001b[1;33m\u001b[0m\u001b[0m\n\u001b[0m",
      "\u001b[1;32m~\\AppData\\Local\\Temp\\ipykernel_26444\\4106493037.py\u001b[0m in \u001b[0;36mgetIdentLayerResponse\u001b[1;34m(pdf_path, table_item)\u001b[0m\n\u001b[0;32m      1\u001b[0m \u001b[1;32mdef\u001b[0m \u001b[0mgetIdentLayerResponse\u001b[0m\u001b[1;33m(\u001b[0m\u001b[0mpdf_path\u001b[0m\u001b[1;33m,\u001b[0m \u001b[0mtable_item\u001b[0m\u001b[1;33m)\u001b[0m\u001b[1;33m:\u001b[0m\u001b[1;33m\u001b[0m\u001b[1;33m\u001b[0m\u001b[0m\n\u001b[1;32m----> 2\u001b[1;33m     \u001b[0mdata\u001b[0m \u001b[1;33m=\u001b[0m \u001b[0mprocess_pdf\u001b[0m\u001b[1;33m(\u001b[0m\u001b[0mpdf_path\u001b[0m\u001b[1;33m)\u001b[0m\u001b[1;33m\u001b[0m\u001b[1;33m\u001b[0m\u001b[0m\n\u001b[0m\u001b[0;32m      3\u001b[0m     \u001b[0mresponse\u001b[0m \u001b[1;33m=\u001b[0m \u001b[0minfoExtLayer\u001b[0m\u001b[1;33m(\u001b[0m\u001b[0mdata\u001b[0m\u001b[1;33m[\u001b[0m\u001b[1;34m\"text\"\u001b[0m\u001b[1;33m]\u001b[0m\u001b[1;33m,\u001b[0m \u001b[0mdata\u001b[0m\u001b[1;33m[\u001b[0m\u001b[1;34m\"tables\"\u001b[0m\u001b[1;33m]\u001b[0m\u001b[1;33m,\u001b[0m \u001b[0mtable_item\u001b[0m\u001b[1;33m)\u001b[0m\u001b[1;33m\u001b[0m\u001b[1;33m\u001b[0m\u001b[0m\n\u001b[0;32m      4\u001b[0m     \u001b[1;32mreturn\u001b[0m \u001b[0mresponse\u001b[0m\u001b[1;33m\u001b[0m\u001b[1;33m\u001b[0m\u001b[0m\n",
      "\u001b[1;32m~\\AppData\\Local\\Temp\\ipykernel_26444\\801214451.py\u001b[0m in \u001b[0;36mprocess_pdf\u001b[1;34m(pdf_path)\u001b[0m\n\u001b[0;32m      1\u001b[0m \u001b[1;31m# Process PDF and extract structured data\u001b[0m\u001b[1;33m\u001b[0m\u001b[1;33m\u001b[0m\u001b[0m\n\u001b[0;32m      2\u001b[0m \u001b[1;32mdef\u001b[0m \u001b[0mprocess_pdf\u001b[0m\u001b[1;33m(\u001b[0m\u001b[0mpdf_path\u001b[0m\u001b[1;33m)\u001b[0m\u001b[1;33m:\u001b[0m\u001b[1;33m\u001b[0m\u001b[1;33m\u001b[0m\u001b[0m\n\u001b[1;32m----> 3\u001b[1;33m     \u001b[0mimages\u001b[0m \u001b[1;33m=\u001b[0m \u001b[0mpdf_to_images\u001b[0m\u001b[1;33m(\u001b[0m\u001b[0mpdf_path\u001b[0m\u001b[1;33m)\u001b[0m\u001b[1;33m\u001b[0m\u001b[1;33m\u001b[0m\u001b[0m\n\u001b[0m\u001b[0;32m      4\u001b[0m     \u001b[0mtext\u001b[0m \u001b[1;33m=\u001b[0m \u001b[0mextract_text_from_images\u001b[0m\u001b[1;33m(\u001b[0m\u001b[0mimages\u001b[0m\u001b[1;33m)\u001b[0m\u001b[1;33m\u001b[0m\u001b[1;33m\u001b[0m\u001b[0m\n\u001b[0;32m      5\u001b[0m     \u001b[0mtables\u001b[0m \u001b[1;33m=\u001b[0m \u001b[0mextract_tables_from_images\u001b[0m\u001b[1;33m(\u001b[0m\u001b[0mimages\u001b[0m\u001b[1;33m)\u001b[0m\u001b[1;33m\u001b[0m\u001b[1;33m\u001b[0m\u001b[0m\n",
      "\u001b[1;32m~\\AppData\\Local\\Temp\\ipykernel_26444\\2151493858.py\u001b[0m in \u001b[0;36mpdf_to_images\u001b[1;34m(pdf_path)\u001b[0m\n\u001b[0;32m      1\u001b[0m \u001b[1;31m# Convert PDF to images\u001b[0m\u001b[1;33m\u001b[0m\u001b[1;33m\u001b[0m\u001b[0m\n\u001b[0;32m      2\u001b[0m \u001b[1;32mdef\u001b[0m \u001b[0mpdf_to_images\u001b[0m\u001b[1;33m(\u001b[0m\u001b[0mpdf_path\u001b[0m\u001b[1;33m)\u001b[0m\u001b[1;33m:\u001b[0m\u001b[1;33m\u001b[0m\u001b[1;33m\u001b[0m\u001b[0m\n\u001b[1;32m----> 3\u001b[1;33m     \u001b[1;32mreturn\u001b[0m \u001b[0mconvert_from_path\u001b[0m\u001b[1;33m(\u001b[0m\u001b[0mpdf_path\u001b[0m\u001b[1;33m,\u001b[0m \u001b[0mdpi\u001b[0m\u001b[1;33m=\u001b[0m\u001b[1;36m300\u001b[0m\u001b[1;33m)\u001b[0m\u001b[1;33m\u001b[0m\u001b[1;33m\u001b[0m\u001b[0m\n\u001b[0m",
      "\u001b[1;32m~\\anaconda3\\lib\\site-packages\\pdf2image\\pdf2image.py\u001b[0m in \u001b[0;36mconvert_from_path\u001b[1;34m(pdf_path, dpi, output_folder, first_page, last_page, fmt, jpegopt, thread_count, userpw, ownerpw, use_cropbox, strict, transparent, single_file, output_file, poppler_path, grayscale, size, paths_only, use_pdftocairo, timeout, hide_annotations)\u001b[0m\n\u001b[0;32m    125\u001b[0m         \u001b[0mpoppler_path\u001b[0m \u001b[1;33m=\u001b[0m \u001b[0mpoppler_path\u001b[0m\u001b[1;33m.\u001b[0m\u001b[0mas_posix\u001b[0m\u001b[1;33m(\u001b[0m\u001b[1;33m)\u001b[0m\u001b[1;33m\u001b[0m\u001b[1;33m\u001b[0m\u001b[0m\n\u001b[0;32m    126\u001b[0m \u001b[1;33m\u001b[0m\u001b[0m\n\u001b[1;32m--> 127\u001b[1;33m     page_count = pdfinfo_from_path(\n\u001b[0m\u001b[0;32m    128\u001b[0m         \u001b[0mpdf_path\u001b[0m\u001b[1;33m,\u001b[0m \u001b[0muserpw\u001b[0m\u001b[1;33m,\u001b[0m \u001b[0mownerpw\u001b[0m\u001b[1;33m,\u001b[0m \u001b[0mpoppler_path\u001b[0m\u001b[1;33m=\u001b[0m\u001b[0mpoppler_path\u001b[0m\u001b[1;33m\u001b[0m\u001b[1;33m\u001b[0m\u001b[0m\n\u001b[0;32m    129\u001b[0m     )[\"Pages\"]\n",
      "\u001b[1;32m~\\anaconda3\\lib\\site-packages\\pdf2image\\pdf2image.py\u001b[0m in \u001b[0;36mpdfinfo_from_path\u001b[1;34m(pdf_path, userpw, ownerpw, poppler_path, rawdates, timeout, first_page, last_page)\u001b[0m\n\u001b[0;32m    605\u001b[0m \u001b[1;33m\u001b[0m\u001b[0m\n\u001b[0;32m    606\u001b[0m     \u001b[1;32mexcept\u001b[0m \u001b[0mOSError\u001b[0m\u001b[1;33m:\u001b[0m\u001b[1;33m\u001b[0m\u001b[1;33m\u001b[0m\u001b[0m\n\u001b[1;32m--> 607\u001b[1;33m         raise PDFInfoNotInstalledError(\n\u001b[0m\u001b[0;32m    608\u001b[0m             \u001b[1;34m\"Unable to get page count. Is poppler installed and in PATH?\"\u001b[0m\u001b[1;33m\u001b[0m\u001b[1;33m\u001b[0m\u001b[0m\n\u001b[0;32m    609\u001b[0m         )\n",
      "\u001b[1;31mPDFInfoNotInstalledError\u001b[0m: Unable to get page count. Is poppler installed and in PATH?"
     ]
    }
   ],
   "source": [
    "trend = getIdentLayerResponse(\"annualreport-2023_jpmc.pdf\", \"Return on Common Equity\")"
   ]
  },
  {
   "cell_type": "code",
   "execution_count": null,
   "id": "019af536",
   "metadata": {},
   "outputs": [],
   "source": []
  }
 ],
 "metadata": {
  "kernelspec": {
   "display_name": "Python 3 (ipykernel)",
   "language": "python",
   "name": "python3"
  },
  "language_info": {
   "codemirror_mode": {
    "name": "ipython",
    "version": 3
   },
   "file_extension": ".py",
   "mimetype": "text/x-python",
   "name": "python",
   "nbconvert_exporter": "python",
   "pygments_lexer": "ipython3",
   "version": "3.9.13"
  }
 },
 "nbformat": 4,
 "nbformat_minor": 5
}
