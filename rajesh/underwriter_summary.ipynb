{
 "cells": [
  {
   "cell_type": "code",
   "execution_count": 7,
   "metadata": {
    "colab": {
     "base_uri": "https://localhost:8080/"
    },
    "executionInfo": {
     "elapsed": 49531,
     "status": "ok",
     "timestamp": 1738257476008,
     "user": {
      "displayName": "Rajesh Cn",
      "userId": "11536892208790025185"
     },
     "user_tz": -330
    },
    "id": "LA-gmVVuCx-4",
    "outputId": "dfb8a871-140e-4a59-8c64-46d0bbc2cf0b"
   },
   "outputs": [
    {
     "name": "stdout",
     "output_type": "stream",
     "text": [
      ">>> Cleaning up old version at /usr/local/lib/ollama\n",
      ">>> Installing ollama to /usr/local\n",
      ">>> Downloading Linux amd64 bundle\n",
      "############################################################################################# 100.0%\n",
      ">>> Adding ollama user to video group...\n",
      ">>> Adding current user to ollama group...\n",
      ">>> Creating ollama systemd service...\n",
      "\u001b[1m\u001b[31mWARNING:\u001b[m systemd is not running\n",
      "\u001b[1m\u001b[31mWARNING:\u001b[m Unable to detect NVIDIA/AMD GPU. Install lspci or lshw to automatically detect and install GPU dependencies.\n",
      ">>> The Ollama API is now available at 127.0.0.1:11434.\n",
      ">>> Install complete. Run \"ollama\" from the command line.\n"
     ]
    }
   ],
   "source": [
    "!curl -fsSL https://ollama.com/install.sh | sh"
   ]
  },
  {
   "cell_type": "code",
   "execution_count": 8,
   "metadata": {
    "colab": {
     "base_uri": "https://localhost:8080/"
    },
    "executionInfo": {
     "elapsed": 2657,
     "status": "ok",
     "timestamp": 1738257483427,
     "user": {
      "displayName": "Rajesh Cn",
      "userId": "11536892208790025185"
     },
     "user_tz": -330
    },
    "id": "fSbSP644ENSB",
    "outputId": "12910c82-9b36-4216-fef5-7adced161c2c"
   },
   "outputs": [
    {
     "name": "stdout",
     "output_type": "stream",
     "text": [
      "Requirement already satisfied: ollama in /usr/local/lib/python3.11/dist-packages (0.4.7)\n",
      "Requirement already satisfied: httpx<0.29,>=0.27 in /usr/local/lib/python3.11/dist-packages (from ollama) (0.28.1)\n",
      "Requirement already satisfied: pydantic<3.0.0,>=2.9.0 in /usr/local/lib/python3.11/dist-packages (from ollama) (2.10.6)\n",
      "Requirement already satisfied: anyio in /usr/local/lib/python3.11/dist-packages (from httpx<0.29,>=0.27->ollama) (3.7.1)\n",
      "Requirement already satisfied: certifi in /usr/local/lib/python3.11/dist-packages (from httpx<0.29,>=0.27->ollama) (2024.12.14)\n",
      "Requirement already satisfied: httpcore==1.* in /usr/local/lib/python3.11/dist-packages (from httpx<0.29,>=0.27->ollama) (1.0.7)\n",
      "Requirement already satisfied: idna in /usr/local/lib/python3.11/dist-packages (from httpx<0.29,>=0.27->ollama) (3.10)\n",
      "Requirement already satisfied: h11<0.15,>=0.13 in /usr/local/lib/python3.11/dist-packages (from httpcore==1.*->httpx<0.29,>=0.27->ollama) (0.14.0)\n",
      "Requirement already satisfied: annotated-types>=0.6.0 in /usr/local/lib/python3.11/dist-packages (from pydantic<3.0.0,>=2.9.0->ollama) (0.7.0)\n",
      "Requirement already satisfied: pydantic-core==2.27.2 in /usr/local/lib/python3.11/dist-packages (from pydantic<3.0.0,>=2.9.0->ollama) (2.27.2)\n",
      "Requirement already satisfied: typing-extensions>=4.12.2 in /usr/local/lib/python3.11/dist-packages (from pydantic<3.0.0,>=2.9.0->ollama) (4.12.2)\n",
      "Requirement already satisfied: sniffio>=1.1 in /usr/local/lib/python3.11/dist-packages (from anyio->httpx<0.29,>=0.27->ollama) (1.3.1)\n"
     ]
    }
   ],
   "source": [
    "!pip install ollama"
   ]
  },
  {
   "cell_type": "code",
   "execution_count": 9,
   "metadata": {
    "executionInfo": {
     "elapsed": 5489,
     "status": "ok",
     "timestamp": 1738257491657,
     "user": {
      "displayName": "Rajesh Cn",
      "userId": "11536892208790025185"
     },
     "user_tz": -330
    },
    "id": "wTM_GRmhJOiF"
   },
   "outputs": [],
   "source": [
    "#starting ollama server locally\n",
    "import subprocess\n",
    "import time\n",
    "process = subprocess.Popen(\"ollama serve\", shell=True)\n",
    "time.sleep(5)  # Wait for 5 seconds"
   ]
  },
  {
   "cell_type": "code",
   "execution_count": 10,
   "metadata": {
    "colab": {
     "base_uri": "https://localhost:8080/"
    },
    "executionInfo": {
     "elapsed": 1872,
     "status": "ok",
     "timestamp": 1738257498881,
     "user": {
      "displayName": "Rajesh Cn",
      "userId": "11536892208790025185"
     },
     "user_tz": -330
    },
    "id": "4igvc4MvKeX3",
    "outputId": "36471235-24e3-4546-8105-a39508482d7b"
   },
   "outputs": [
    {
     "name": "stdout",
     "output_type": "stream",
     "text": [
      "\u001b[?25lpulling manifest ⠋ \u001b[?25h\u001b[?25l\u001b[2K\u001b[1Gpulling manifest ⠙ \u001b[?25h\u001b[?25l\u001b[2K\u001b[1Gpulling manifest ⠸ \u001b[?25h\u001b[?25l\u001b[2K\u001b[1Gpulling manifest ⠸ \u001b[?25h\u001b[?25l\u001b[2K\u001b[1Gpulling manifest ⠼ \u001b[?25h\u001b[?25l\u001b[2K\u001b[1Gpulling manifest ⠴ \u001b[?25h\u001b[?25l\u001b[2K\u001b[1Gpulling manifest ⠦ \u001b[?25h\u001b[?25l\u001b[2K\u001b[1Gpulling manifest ⠧ \u001b[?25h\u001b[?25l\u001b[2K\u001b[1Gpulling manifest ⠇ \u001b[?25h\u001b[?25l\u001b[2K\u001b[1Gpulling manifest \n",
      "pulling 6a0746a1ec1a... 100% ▕▏ 4.7 GB                         \n",
      "pulling 4fa551d4f938... 100% ▕▏  12 KB                         \n",
      "pulling 8ab4849b038c... 100% ▕▏  254 B                         \n",
      "pulling 577073ffcc6c... 100% ▕▏  110 B                         \n",
      "pulling 3f8eb4da87fa... 100% ▕▏  485 B                         \n",
      "verifying sha256 digest \n",
      "writing manifest \n",
      "success \u001b[?25h\n"
     ]
    }
   ],
   "source": [
    "!ollama pull llama3"
   ]
  },
  {
   "cell_type": "code",
   "execution_count": 11,
   "metadata": {
    "colab": {
     "base_uri": "https://localhost:8080/"
    },
    "executionInfo": {
     "elapsed": 474,
     "status": "ok",
     "timestamp": 1738257513108,
     "user": {
      "displayName": "Rajesh Cn",
      "userId": "11536892208790025185"
     },
     "user_tz": -330
    },
    "id": "FnmWvUsWKUZ8",
    "outputId": "fc9c4fad-3f89-4579-f521-bdd370fe4356"
   },
   "outputs": [
    {
     "name": "stdout",
     "output_type": "stream",
     "text": [
      "NAME             ID              SIZE      MODIFIED       \n",
      "llama3:latest    365c0bd3c000    4.7 GB    14 seconds ago    \n"
     ]
    }
   ],
   "source": [
    "!ollama list"
   ]
  },
  {
   "cell_type": "code",
   "execution_count": 12,
   "metadata": {
    "colab": {
     "base_uri": "https://localhost:8080/"
    },
    "executionInfo": {
     "elapsed": 18245,
     "status": "ok",
     "timestamp": 1738257533711,
     "user": {
      "displayName": "Rajesh Cn",
      "userId": "11536892208790025185"
     },
     "user_tz": -330
    },
    "id": "vLCL-nKZJUUD",
    "outputId": "86b20bc3-7e99-447b-bf6c-6562d0c828b8"
   },
   "outputs": [
    {
     "name": "stdout",
     "output_type": "stream",
     "text": [
      "Machine learning (ML) is a subfield of artificial intelligence (AI) that involves training algorithms to learn from data and make predictions or decisions without being explicitly programmed. In other words, ML allows computers to improve their performance on a task over time, based on the data they receive.\n",
      "\n",
      "Here's how it works:\n",
      "\n",
      "1. **Training**: You feed a machine learning algorithm with a dataset containing examples of input (e.g., images, text, audio) and corresponding output (e.g., labels, classifications).\n",
      "2. **Model building**: The algorithm uses this training data to build a mathematical model that can make predictions or decisions.\n",
      "3. **Testing**: You test the model on a separate dataset to evaluate its performance.\n",
      "4. **Improvement**: If the model performs well, you refine it by adjusting parameters, adding more data, or using different algorithms. This process is called \"iteration.\"\n",
      "5. **Deployment**: Once the model is trained and tested satisfactorily, you deploy it in a real-world application.\n",
      "\n",
      "Machine learning can be categorized into three main types:\n",
      "\n",
      "1. **Supervised learning**: The algorithm learns from labeled data (input-output pairs) to make predictions or classify new examples.\n",
      "2. **Unsupervised learning**: The algorithm discovers patterns or relationships within unlabeled data, such as clustering similar data points together.\n",
      "3. **Reinforcement learning**: The algorithm learns by interacting with an environment and receiving feedback in the form of rewards or penalties.\n",
      "\n",
      "Machine learning has numerous applications across industries, including:\n",
      "\n",
      "1. **Computer vision**: Image recognition, object detection, facial recognition\n",
      "2. **Natural language processing (NLP)**: Text classification, sentiment analysis, machine translation\n",
      "3. **Speech recognition**: Speech-to-text, voice assistants\n",
      "4. **Recommendation systems**: Personalized product suggestions based on user behavior and preferences\n",
      "5. **Predictive analytics**: Forecasting stock prices, predicting customer churn, detecting fraud\n",
      "\n",
      "Machine learning has revolutionized many fields by enabling computers to learn from experience, adapt to new situations, and make decisions with increasing accuracy.\n"
     ]
    }
   ],
   "source": [
    "import ollama\n",
    "\n",
    "# Correct message format\n",
    "response = ollama.chat(model=\"llama3\", messages=[{\"role\": \"user\", \"content\": \"What is machine learning?\"}])\n",
    "\n",
    "# Print the response from the model\n",
    "print(response.message.content)\n"
   ]
  },
  {
   "cell_type": "code",
   "execution_count": 13,
   "metadata": {
    "colab": {
     "base_uri": "https://localhost:8080/"
    },
    "executionInfo": {
     "elapsed": 3288,
     "status": "ok",
     "timestamp": 1738257539895,
     "user": {
      "displayName": "Rajesh Cn",
      "userId": "11536892208790025185"
     },
     "user_tz": -330
    },
    "id": "EEPy_3_BMaWF",
    "outputId": "229b0fba-e117-43f0-a931-0aa5b854e9b0"
   },
   "outputs": [
    {
     "name": "stdout",
     "output_type": "stream",
     "text": [
      "Drive already mounted at /content/drive; to attempt to forcibly remount, call drive.mount(\"/content/drive\", force_remount=True).\n"
     ]
    }
   ],
   "source": [
    "from google.colab import drive\n",
    "drive.mount('/content/drive')"
   ]
  },
  {
   "cell_type": "code",
   "execution_count": 14,
   "metadata": {
    "colab": {
     "base_uri": "https://localhost:8080/"
    },
    "executionInfo": {
     "elapsed": 766,
     "status": "ok",
     "timestamp": 1738257543435,
     "user": {
      "displayName": "Rajesh Cn",
      "userId": "11536892208790025185"
     },
     "user_tz": -330
    },
    "id": "pwllb1mqMpub",
    "outputId": "a462eed1-8256-4536-dd43-40eb08a71fa4"
   },
   "outputs": [
    {
     "name": "stdout",
     "output_type": "stream",
     "text": [
      "                  Particulars  2024 (in $ millions)  2023 (in $ millions)\n",
      "0                     Revenue               50000.0               47000.0\n",
      "1   Cost of Goods Sold (COGS)              -30000.0              -28500.0\n",
      "2                Gross Profit               20000.0               18500.0\n",
      "3          Operating Expenses                   NaN                   NaN\n",
      "4         Selling & Marketing               -3500.0               -3200.0\n",
      "5    General & Administrative               -4000.0               -3800.0\n",
      "6                R&D Expenses               -2500.0               -2300.0\n",
      "7            Operating Income               10000.0                9200.0\n",
      "8    Other Income / (Expense)                   NaN                   NaN\n",
      "9            Interest Expense                -500.0                -600.0\n",
      "10               Other Income                 300.0                 200.0\n",
      "11      Net Income Before Tax                9800.0                8800.0\n",
      "12         Income Tax Expense               -1960.0               -1760.0\n",
      "13                 Net Income                7840.0                7040.0\n"
     ]
    }
   ],
   "source": [
    "import pandas as pd\n",
    "\n",
    "file_path = '/content/drive/My Drive/ARM/financial_statement.xlsx'\n",
    "df = pd.read_excel(file_path)  # Read the first sheet\n",
    "print(df)  # Display the first few rows"
   ]
  },
  {
   "cell_type": "code",
   "execution_count": 15,
   "metadata": {
    "colab": {
     "base_uri": "https://localhost:8080/"
    },
    "executionInfo": {
     "elapsed": 4,
     "status": "ok",
     "timestamp": 1738257546740,
     "user": {
      "displayName": "Rajesh Cn",
      "userId": "11536892208790025185"
     },
     "user_tz": -330
    },
    "id": "pziKkfNcMskJ",
    "outputId": "99cbdf72-9781-4263-824a-723493f97ee0"
   },
   "outputs": [
    {
     "name": "stdout",
     "output_type": "stream",
     "text": [
      "Particulars             Revenue\n",
      "2024 (in $ millions)    50000.0\n",
      "2023 (in $ millions)    47000.0\n",
      "Name: 0, dtype: object\n"
     ]
    }
   ],
   "source": [
    "print(df.iloc[0])\n",
    "# read revenue data"
   ]
  },
  {
   "cell_type": "code",
   "execution_count": 16,
   "metadata": {
    "colab": {
     "base_uri": "https://localhost:8080/"
    },
    "executionInfo": {
     "elapsed": 2576,
     "status": "ok",
     "timestamp": 1738257551578,
     "user": {
      "displayName": "Rajesh Cn",
      "userId": "11536892208790025185"
     },
     "user_tz": -330
    },
    "id": "Ge2xuPNrMyZ4",
    "outputId": "a58e097e-7a10-4cef-934e-feff8adf90c0"
   },
   "outputs": [
    {
     "name": "stdout",
     "output_type": "stream",
     "text": [
      "Requirement already satisfied: pymupdf in /usr/local/lib/python3.11/dist-packages (1.25.2)\n"
     ]
    }
   ],
   "source": [
    "!pip install pymupdf"
   ]
  },
  {
   "cell_type": "code",
   "execution_count": 17,
   "metadata": {
    "colab": {
     "base_uri": "https://localhost:8080/"
    },
    "executionInfo": {
     "elapsed": 503,
     "status": "ok",
     "timestamp": 1738257555415,
     "user": {
      "displayName": "Rajesh Cn",
      "userId": "11536892208790025185"
     },
     "user_tz": -330
    },
    "id": "dEYOhMeXM5NA",
    "outputId": "ce30661d-7f6a-4969-aa73-a5e7b44c17d4"
   },
   "outputs": [
    {
     "name": "stdout",
     "output_type": "stream",
     "text": [
      "Excerpt from 10-K Filing (MD&A Section) \n",
      "XYZ Corporation – Management’s Discussion and Analysis (MD&A) \n",
      "Revenue Growth: \n",
      "Revenue increased by 6.38% ($3B increase) due to higher sales volume in \n",
      "international markets and improved pricing strategies. \n",
      "Gross Profit: \n",
      "Gross profit improved due to a reduction in supply chain costs and improved \n",
      "operational efficiencies. However, raw material costs were higher in Q2, which \n",
      "slightly offset the gain. \n",
      "Operating Expenses: \n",
      " \n",
      "Selling & Marketing Expenses: Increased due to higher advertising spend \n",
      "and expansion into new markets. \n",
      " \n",
      "General & Administrative Expenses: Increased primarily due to higher \n",
      "employee salaries and office lease costs. \n",
      " \n",
      "R&D Expenses: Increased as the company continued investing in new \n",
      "product innovations, especially in AI-powered solutions. \n",
      "Net Income: \n",
      "Net income increased by 11.36% ($800M) due to higher revenue and operational \n",
      "efficiencies, offset by higher interest expenses and taxes. \n",
      "Key Reasons for Profit Increase: \n",
      "1. Higher Revenue from International Expansion – Sales grew in Asia and \n",
      "Europe. \n",
      "2. Cost Reductions in Supply Chain – Efficient logistics and better supplier \n",
      "contracts. \n",
      "3. Product Innovations – Introduction of new AI-driven products improved \n",
      "margins. \n",
      "4. Lower Interest Expenses – Debt refinancing at lower rates helped reduce \n",
      "costs. \n",
      " \n",
      "\n"
     ]
    }
   ],
   "source": [
    "import fitz  # PyMuPDF\n",
    "\n",
    "pdf_document = \"/content/drive/My Drive/ARM/10k.pdf\"\n",
    "tenk_text = \"\"\n",
    "\n",
    "with fitz.open(pdf_document) as doc:\n",
    "    for page in doc:\n",
    "        tenk_text += page.get_text()\n",
    "\n",
    "print(tenk_text)"
   ]
  },
  {
   "cell_type": "code",
   "execution_count": 18,
   "metadata": {
    "colab": {
     "base_uri": "https://localhost:8080/"
    },
    "executionInfo": {
     "elapsed": 524,
     "status": "ok",
     "timestamp": 1738257559112,
     "user": {
      "displayName": "Rajesh Cn",
      "userId": "11536892208790025185"
     },
     "user_tz": -330
    },
    "id": "ax8aFtxFNCUW",
    "outputId": "1196c1ed-9baf-4407-893d-277745e687b0"
   },
   "outputs": [
    {
     "name": "stdout",
     "output_type": "stream",
     "text": [
      "Particular: Revenue, Revenue 2024: 50000.0, Revenue 2023: 47000.0. Additional Info from 10-K: Excerpt from 10-K Filing (MD&A Section) \n",
      "XYZ Corporation – Management’s Discussion and Analysis (MD&A) \n",
      "Revenue Growth: \n",
      "Revenue increased by 6.38% ($3B increase) due to higher sales volume in \n",
      "international markets and improved pricing strategies. \n",
      "Gross Profit: \n",
      "Gross profit improved due to a reduction in supply chain costs and improved \n",
      "operational efficiencies. However, raw material costs were higher in Q2, which \n",
      "slightly offset the gain. \n",
      "Operating Expenses: \n",
      " \n",
      "Selling & Marketing Expenses: Increased due to higher advertising spend \n",
      "and expansion into new markets. \n",
      " \n",
      "General & Administrative Expenses: Increased primarily due to higher \n",
      "employee salaries and office lease costs. \n",
      " \n",
      "R&D Expenses: Increased as the company continued investing in new \n",
      "product innovations, especially in AI-powered solutions. \n",
      "Net Income: \n",
      "Net income increased by 11.36% ($800M) due to higher revenue and operational \n",
      "efficiencies, offset by higher interest expenses and taxes. \n",
      "Key Reasons for Profit Increase: \n",
      "1. Higher Revenue from International Expansion – Sales grew in Asia and \n",
      "Europe. \n",
      "2. Cost Reductions in Supply Chain – Efficient logistics and better supplier \n",
      "contracts. \n",
      "3. Product Innovations – Introduction of new AI-driven products improved \n",
      "margins. \n",
      "4. Lower Interest Expenses – Debt refinancing at lower rates helped reduce \n",
      "costs. \n",
      " \n",
      "\n"
     ]
    }
   ],
   "source": [
    "# Combine structured financial data and unstructured 10-K insights\n",
    "combined_text = (\n",
    "    f\"Particular: {df.iloc[0]['Particulars']}, \"\n",
    "    f\"Revenue 2024: {df.iloc[0]['2024 (in $ millions)']}, \"\n",
    "    f\"Revenue 2023: {df.iloc[0]['2023 (in $ millions)']}. \"\n",
    "    f\"Additional Info from 10-K: {tenk_text}\"\n",
    ")\n",
    "\n",
    "print(combined_text)  # Preview the final combined text"
   ]
  },
  {
   "cell_type": "code",
   "execution_count": 19,
   "metadata": {
    "colab": {
     "base_uri": "https://localhost:8080/"
    },
    "executionInfo": {
     "elapsed": 3305,
     "status": "ok",
     "timestamp": 1738257565457,
     "user": {
      "displayName": "Rajesh Cn",
      "userId": "11536892208790025185"
     },
     "user_tz": -330
    },
    "id": "Rb7zWLk0NRi0",
    "outputId": "5e7d389e-8d79-4e2b-f6e3-24a912f9e9cb"
   },
   "outputs": [
    {
     "name": "stdout",
     "output_type": "stream",
     "text": [
      "Requirement already satisfied: chromadb in /usr/local/lib/python3.11/dist-packages (0.6.3)\n",
      "Requirement already satisfied: build>=1.0.3 in /usr/local/lib/python3.11/dist-packages (from chromadb) (1.2.2.post1)\n",
      "Requirement already satisfied: pydantic>=1.9 in /usr/local/lib/python3.11/dist-packages (from chromadb) (2.10.6)\n",
      "Requirement already satisfied: chroma-hnswlib==0.7.6 in /usr/local/lib/python3.11/dist-packages (from chromadb) (0.7.6)\n",
      "Requirement already satisfied: fastapi>=0.95.2 in /usr/local/lib/python3.11/dist-packages (from chromadb) (0.115.8)\n",
      "Requirement already satisfied: uvicorn>=0.18.3 in /usr/local/lib/python3.11/dist-packages (from uvicorn[standard]>=0.18.3->chromadb) (0.34.0)\n",
      "Requirement already satisfied: numpy>=1.22.5 in /usr/local/lib/python3.11/dist-packages (from chromadb) (1.26.4)\n",
      "Requirement already satisfied: posthog>=2.4.0 in /usr/local/lib/python3.11/dist-packages (from chromadb) (3.11.0)\n",
      "Requirement already satisfied: typing_extensions>=4.5.0 in /usr/local/lib/python3.11/dist-packages (from chromadb) (4.12.2)\n",
      "Requirement already satisfied: onnxruntime>=1.14.1 in /usr/local/lib/python3.11/dist-packages (from chromadb) (1.20.1)\n",
      "Requirement already satisfied: opentelemetry-api>=1.2.0 in /usr/local/lib/python3.11/dist-packages (from chromadb) (1.29.0)\n",
      "Requirement already satisfied: opentelemetry-exporter-otlp-proto-grpc>=1.2.0 in /usr/local/lib/python3.11/dist-packages (from chromadb) (1.29.0)\n",
      "Requirement already satisfied: opentelemetry-instrumentation-fastapi>=0.41b0 in /usr/local/lib/python3.11/dist-packages (from chromadb) (0.50b0)\n",
      "Requirement already satisfied: opentelemetry-sdk>=1.2.0 in /usr/local/lib/python3.11/dist-packages (from chromadb) (1.29.0)\n",
      "Requirement already satisfied: tokenizers>=0.13.2 in /usr/local/lib/python3.11/dist-packages (from chromadb) (0.21.0)\n",
      "Requirement already satisfied: pypika>=0.48.9 in /usr/local/lib/python3.11/dist-packages (from chromadb) (0.48.9)\n",
      "Requirement already satisfied: tqdm>=4.65.0 in /usr/local/lib/python3.11/dist-packages (from chromadb) (4.67.1)\n",
      "Requirement already satisfied: overrides>=7.3.1 in /usr/local/lib/python3.11/dist-packages (from chromadb) (7.7.0)\n",
      "Requirement already satisfied: importlib-resources in /usr/local/lib/python3.11/dist-packages (from chromadb) (6.5.2)\n",
      "Requirement already satisfied: grpcio>=1.58.0 in /usr/local/lib/python3.11/dist-packages (from chromadb) (1.70.0)\n",
      "Requirement already satisfied: bcrypt>=4.0.1 in /usr/local/lib/python3.11/dist-packages (from chromadb) (4.2.1)\n",
      "Requirement already satisfied: typer>=0.9.0 in /usr/local/lib/python3.11/dist-packages (from chromadb) (0.15.1)\n",
      "Requirement already satisfied: kubernetes>=28.1.0 in /usr/local/lib/python3.11/dist-packages (from chromadb) (32.0.0)\n",
      "Requirement already satisfied: tenacity>=8.2.3 in /usr/local/lib/python3.11/dist-packages (from chromadb) (9.0.0)\n",
      "Requirement already satisfied: PyYAML>=6.0.0 in /usr/local/lib/python3.11/dist-packages (from chromadb) (6.0.2)\n",
      "Requirement already satisfied: mmh3>=4.0.1 in /usr/local/lib/python3.11/dist-packages (from chromadb) (5.1.0)\n",
      "Requirement already satisfied: orjson>=3.9.12 in /usr/local/lib/python3.11/dist-packages (from chromadb) (3.10.15)\n",
      "Requirement already satisfied: httpx>=0.27.0 in /usr/local/lib/python3.11/dist-packages (from chromadb) (0.28.1)\n",
      "Requirement already satisfied: rich>=10.11.0 in /usr/local/lib/python3.11/dist-packages (from chromadb) (13.9.4)\n",
      "Requirement already satisfied: packaging>=19.1 in /usr/local/lib/python3.11/dist-packages (from build>=1.0.3->chromadb) (24.2)\n",
      "Requirement already satisfied: pyproject_hooks in /usr/local/lib/python3.11/dist-packages (from build>=1.0.3->chromadb) (1.2.0)\n",
      "Requirement already satisfied: starlette<0.46.0,>=0.40.0 in /usr/local/lib/python3.11/dist-packages (from fastapi>=0.95.2->chromadb) (0.45.3)\n",
      "Requirement already satisfied: anyio in /usr/local/lib/python3.11/dist-packages (from httpx>=0.27.0->chromadb) (3.7.1)\n",
      "Requirement already satisfied: certifi in /usr/local/lib/python3.11/dist-packages (from httpx>=0.27.0->chromadb) (2024.12.14)\n",
      "Requirement already satisfied: httpcore==1.* in /usr/local/lib/python3.11/dist-packages (from httpx>=0.27.0->chromadb) (1.0.7)\n",
      "Requirement already satisfied: idna in /usr/local/lib/python3.11/dist-packages (from httpx>=0.27.0->chromadb) (3.10)\n",
      "Requirement already satisfied: h11<0.15,>=0.13 in /usr/local/lib/python3.11/dist-packages (from httpcore==1.*->httpx>=0.27.0->chromadb) (0.14.0)\n",
      "Requirement already satisfied: six>=1.9.0 in /usr/local/lib/python3.11/dist-packages (from kubernetes>=28.1.0->chromadb) (1.17.0)\n",
      "Requirement already satisfied: python-dateutil>=2.5.3 in /usr/local/lib/python3.11/dist-packages (from kubernetes>=28.1.0->chromadb) (2.8.2)\n",
      "Requirement already satisfied: google-auth>=1.0.1 in /usr/local/lib/python3.11/dist-packages (from kubernetes>=28.1.0->chromadb) (2.27.0)\n",
      "Requirement already satisfied: websocket-client!=0.40.0,!=0.41.*,!=0.42.*,>=0.32.0 in /usr/local/lib/python3.11/dist-packages (from kubernetes>=28.1.0->chromadb) (1.8.0)\n",
      "Requirement already satisfied: requests in /usr/local/lib/python3.11/dist-packages (from kubernetes>=28.1.0->chromadb) (2.32.3)\n",
      "Requirement already satisfied: requests-oauthlib in /usr/local/lib/python3.11/dist-packages (from kubernetes>=28.1.0->chromadb) (1.3.1)\n",
      "Requirement already satisfied: oauthlib>=3.2.2 in /usr/local/lib/python3.11/dist-packages (from kubernetes>=28.1.0->chromadb) (3.2.2)\n",
      "Requirement already satisfied: urllib3>=1.24.2 in /usr/local/lib/python3.11/dist-packages (from kubernetes>=28.1.0->chromadb) (2.3.0)\n",
      "Requirement already satisfied: durationpy>=0.7 in /usr/local/lib/python3.11/dist-packages (from kubernetes>=28.1.0->chromadb) (0.9)\n",
      "Requirement already satisfied: coloredlogs in /usr/local/lib/python3.11/dist-packages (from onnxruntime>=1.14.1->chromadb) (15.0.1)\n",
      "Requirement already satisfied: flatbuffers in /usr/local/lib/python3.11/dist-packages (from onnxruntime>=1.14.1->chromadb) (25.1.24)\n",
      "Requirement already satisfied: protobuf in /usr/local/lib/python3.11/dist-packages (from onnxruntime>=1.14.1->chromadb) (5.29.3)\n",
      "Requirement already satisfied: sympy in /usr/local/lib/python3.11/dist-packages (from onnxruntime>=1.14.1->chromadb) (1.13.1)\n",
      "Requirement already satisfied: deprecated>=1.2.6 in /usr/local/lib/python3.11/dist-packages (from opentelemetry-api>=1.2.0->chromadb) (1.2.18)\n",
      "Requirement already satisfied: importlib-metadata<=8.5.0,>=6.0 in /usr/local/lib/python3.11/dist-packages (from opentelemetry-api>=1.2.0->chromadb) (8.5.0)\n",
      "Requirement already satisfied: googleapis-common-protos~=1.52 in /usr/local/lib/python3.11/dist-packages (from opentelemetry-exporter-otlp-proto-grpc>=1.2.0->chromadb) (1.66.0)\n",
      "Requirement already satisfied: opentelemetry-exporter-otlp-proto-common==1.29.0 in /usr/local/lib/python3.11/dist-packages (from opentelemetry-exporter-otlp-proto-grpc>=1.2.0->chromadb) (1.29.0)\n",
      "Requirement already satisfied: opentelemetry-proto==1.29.0 in /usr/local/lib/python3.11/dist-packages (from opentelemetry-exporter-otlp-proto-grpc>=1.2.0->chromadb) (1.29.0)\n",
      "Requirement already satisfied: opentelemetry-instrumentation-asgi==0.50b0 in /usr/local/lib/python3.11/dist-packages (from opentelemetry-instrumentation-fastapi>=0.41b0->chromadb) (0.50b0)\n",
      "Requirement already satisfied: opentelemetry-instrumentation==0.50b0 in /usr/local/lib/python3.11/dist-packages (from opentelemetry-instrumentation-fastapi>=0.41b0->chromadb) (0.50b0)\n",
      "Requirement already satisfied: opentelemetry-semantic-conventions==0.50b0 in /usr/local/lib/python3.11/dist-packages (from opentelemetry-instrumentation-fastapi>=0.41b0->chromadb) (0.50b0)\n",
      "Requirement already satisfied: opentelemetry-util-http==0.50b0 in /usr/local/lib/python3.11/dist-packages (from opentelemetry-instrumentation-fastapi>=0.41b0->chromadb) (0.50b0)\n",
      "Requirement already satisfied: wrapt<2.0.0,>=1.0.0 in /usr/local/lib/python3.11/dist-packages (from opentelemetry-instrumentation==0.50b0->opentelemetry-instrumentation-fastapi>=0.41b0->chromadb) (1.17.2)\n",
      "Requirement already satisfied: asgiref~=3.0 in /usr/local/lib/python3.11/dist-packages (from opentelemetry-instrumentation-asgi==0.50b0->opentelemetry-instrumentation-fastapi>=0.41b0->chromadb) (3.8.1)\n",
      "Requirement already satisfied: monotonic>=1.5 in /usr/local/lib/python3.11/dist-packages (from posthog>=2.4.0->chromadb) (1.6)\n",
      "Requirement already satisfied: backoff>=1.10.0 in /usr/local/lib/python3.11/dist-packages (from posthog>=2.4.0->chromadb) (2.2.1)\n",
      "Requirement already satisfied: annotated-types>=0.6.0 in /usr/local/lib/python3.11/dist-packages (from pydantic>=1.9->chromadb) (0.7.0)\n",
      "Requirement already satisfied: pydantic-core==2.27.2 in /usr/local/lib/python3.11/dist-packages (from pydantic>=1.9->chromadb) (2.27.2)\n",
      "Requirement already satisfied: markdown-it-py>=2.2.0 in /usr/local/lib/python3.11/dist-packages (from rich>=10.11.0->chromadb) (3.0.0)\n",
      "Requirement already satisfied: pygments<3.0.0,>=2.13.0 in /usr/local/lib/python3.11/dist-packages (from rich>=10.11.0->chromadb) (2.18.0)\n",
      "Requirement already satisfied: huggingface-hub<1.0,>=0.16.4 in /usr/local/lib/python3.11/dist-packages (from tokenizers>=0.13.2->chromadb) (0.27.1)\n",
      "Requirement already satisfied: click>=8.0.0 in /usr/local/lib/python3.11/dist-packages (from typer>=0.9.0->chromadb) (8.1.8)\n",
      "Requirement already satisfied: shellingham>=1.3.0 in /usr/local/lib/python3.11/dist-packages (from typer>=0.9.0->chromadb) (1.5.4)\n",
      "Requirement already satisfied: httptools>=0.6.3 in /usr/local/lib/python3.11/dist-packages (from uvicorn[standard]>=0.18.3->chromadb) (0.6.4)\n",
      "Requirement already satisfied: python-dotenv>=0.13 in /usr/local/lib/python3.11/dist-packages (from uvicorn[standard]>=0.18.3->chromadb) (1.0.1)\n",
      "Requirement already satisfied: uvloop!=0.15.0,!=0.15.1,>=0.14.0 in /usr/local/lib/python3.11/dist-packages (from uvicorn[standard]>=0.18.3->chromadb) (0.21.0)\n",
      "Requirement already satisfied: watchfiles>=0.13 in /usr/local/lib/python3.11/dist-packages (from uvicorn[standard]>=0.18.3->chromadb) (1.0.4)\n",
      "Requirement already satisfied: websockets>=10.4 in /usr/local/lib/python3.11/dist-packages (from uvicorn[standard]>=0.18.3->chromadb) (14.2)\n",
      "Requirement already satisfied: cachetools<6.0,>=2.0.0 in /usr/local/lib/python3.11/dist-packages (from google-auth>=1.0.1->kubernetes>=28.1.0->chromadb) (5.5.1)\n",
      "Requirement already satisfied: pyasn1-modules>=0.2.1 in /usr/local/lib/python3.11/dist-packages (from google-auth>=1.0.1->kubernetes>=28.1.0->chromadb) (0.4.1)\n",
      "Requirement already satisfied: rsa<5,>=3.1.4 in /usr/local/lib/python3.11/dist-packages (from google-auth>=1.0.1->kubernetes>=28.1.0->chromadb) (4.9)\n",
      "Requirement already satisfied: filelock in /usr/local/lib/python3.11/dist-packages (from huggingface-hub<1.0,>=0.16.4->tokenizers>=0.13.2->chromadb) (3.17.0)\n",
      "Requirement already satisfied: fsspec>=2023.5.0 in /usr/local/lib/python3.11/dist-packages (from huggingface-hub<1.0,>=0.16.4->tokenizers>=0.13.2->chromadb) (2024.10.0)\n",
      "Requirement already satisfied: zipp>=3.20 in /usr/local/lib/python3.11/dist-packages (from importlib-metadata<=8.5.0,>=6.0->opentelemetry-api>=1.2.0->chromadb) (3.21.0)\n",
      "Requirement already satisfied: mdurl~=0.1 in /usr/local/lib/python3.11/dist-packages (from markdown-it-py>=2.2.0->rich>=10.11.0->chromadb) (0.1.2)\n",
      "Requirement already satisfied: charset-normalizer<4,>=2 in /usr/local/lib/python3.11/dist-packages (from requests->kubernetes>=28.1.0->chromadb) (3.4.1)\n",
      "Requirement already satisfied: sniffio>=1.1 in /usr/local/lib/python3.11/dist-packages (from anyio->httpx>=0.27.0->chromadb) (1.3.1)\n",
      "Requirement already satisfied: humanfriendly>=9.1 in /usr/local/lib/python3.11/dist-packages (from coloredlogs->onnxruntime>=1.14.1->chromadb) (10.0)\n",
      "Requirement already satisfied: mpmath<1.4,>=1.1.0 in /usr/local/lib/python3.11/dist-packages (from sympy->onnxruntime>=1.14.1->chromadb) (1.3.0)\n",
      "Requirement already satisfied: pyasn1<0.7.0,>=0.4.6 in /usr/local/lib/python3.11/dist-packages (from pyasn1-modules>=0.2.1->google-auth>=1.0.1->kubernetes>=28.1.0->chromadb) (0.6.1)\n"
     ]
    }
   ],
   "source": [
    "!pip install chromadb"
   ]
  },
  {
   "cell_type": "code",
   "execution_count": 20,
   "metadata": {
    "colab": {
     "base_uri": "https://localhost:8080/"
    },
    "executionInfo": {
     "elapsed": 2235,
     "status": "ok",
     "timestamp": 1738257571786,
     "user": {
      "displayName": "Rajesh Cn",
      "userId": "11536892208790025185"
     },
     "user_tz": -330
    },
    "id": "iNAPFr5QNJf7",
    "outputId": "20166726-0aeb-4e8e-eacb-48aba5a4fe38"
   },
   "outputs": [
    {
     "name": "stdout",
     "output_type": "stream",
     "text": [
      "Revenue and 10-K data successfully stored in vector database!\n"
     ]
    }
   ],
   "source": [
    "import ollama\n",
    "import chromadb\n",
    "\n",
    "# Generate embeddings using Llama3\n",
    "response = ollama.embeddings(model=\"llama3\", prompt=combined_text)\n",
    "embedding_vector = response[\"embedding\"]\n",
    "\n",
    "# Store in ChromaDB\n",
    "chroma_client = chromadb.PersistentClient(path=\"./vector_db\")\n",
    "collection = chroma_client.get_or_create_collection(name=\"financial_reports\")\n",
    "\n",
    "collection.add(\n",
    "    ids=[\"revenue_10k_data\"],\n",
    "    embeddings=[embedding_vector],\n",
    "    metadatas=[{\"source\": \"financial_data_10K\"}],\n",
    "    documents=[combined_text]\n",
    ")\n",
    "\n",
    "print(\"Revenue and 10-K data successfully stored in vector database!\")\n"
   ]
  },
  {
   "cell_type": "code",
   "execution_count": 23,
   "metadata": {
    "colab": {
     "base_uri": "https://localhost:8080/"
    },
    "executionInfo": {
     "elapsed": 11009,
     "status": "ok",
     "timestamp": 1738257777991,
     "user": {
      "displayName": "Rajesh Cn",
      "userId": "11536892208790025185"
     },
     "user_tz": -330
    },
    "id": "uq7IuNvQOfMf",
    "outputId": "e7920171-0cbd-4fa3-ffee-7804b566e941"
   },
   "outputs": [
    {
     "name": "stdout",
     "output_type": "stream",
     "text": [
      "Based on the information provided, I can provide some insights on the revenue changes for XYZ Corporation in 2024 compared to 2023.\n",
      "\n",
      "Firstly, the company's revenue increased by 6.38% from $47,000 in 2023 to $50,000 in 2024, which is a significant growth of $3,000. This increase can be attributed to higher sales volume in international markets and improved pricing strategies.\n",
      "\n",
      "In terms of the factors contributing to this revenue growth, I would highlight the following:\n",
      "\n",
      "1. International expansion: The company's sales grew in Asia and Europe, indicating a successful expansion into new markets.\n",
      "2. Pricing strategies: Improved pricing strategies likely helped increase revenue by optimizing prices and driving sales.\n",
      "\n",
      "These factors have contributed to a 6.38% increase in revenue, which is a positive trend for the company.\n",
      "\n",
      "It will be important for the company to continue to focus on these growth drivers and potentially explore other opportunities to drive revenue growth in the future.\n",
      "\n",
      "Additional insights:\n",
      "\n",
      "* Gross profit improved due to reduced supply chain costs and operational efficiencies, which suggests that the company's cost structure is becoming more efficient.\n",
      "* Operating expenses increased across various categories (Selling & Marketing Expenses, General & Administrative Expenses, and R&D Expenses), which may impact profitability. However, these increases are likely driven by strategic investments in the business.\n",
      "\n",
      "Overall, XYZ Corporation's revenue growth in 2024 is a positive sign, and the company should continue to focus on its international expansion and pricing strategies to drive future growth.\n"
     ]
    }
   ],
   "source": [
    "# # Ensure retrieved_doc is a string (if it's a list, join its contents)\n",
    "# retrieved_doc = \" \".join(retrieved_doc) if isinstance(retrieved_doc, list) else retrieved_doc\n",
    "\n",
    "# # Ask Llama3 to generate a response\n",
    "# response = ollama.chat(model=\"llama3\", messages=[\n",
    "#     {\"role\": \"system\", \"content\": \"You are a financial assistant providing insights on revenue changes.\"},\n",
    "#     {\"role\": \"user\", \"content\": retrieved_doc}  # Make sure this is a string\n",
    "# ])\n",
    "\n",
    "# print(response[\"message\"][\"content\"])\n",
    "\n",
    "# Define the user query (simplified to focus on revenue insights)\n",
    "user_query = \"Provide insights on the revenue.\"\n",
    "\n",
    "# Generate query embedding\n",
    "query_embedding = ollama.embeddings(model=\"llama3\", prompt=user_query)[\"embedding\"]\n",
    "\n",
    "# Retrieve the most relevant document from ChromaDB\n",
    "results = collection.query(query_embeddings=[query_embedding], n_results=1)\n",
    "\n",
    "# Ensure the retrieved document is available\n",
    "if \"documents\" in results and results[\"documents\"]:\n",
    "    retrieved_doc = results[\"documents\"][0]  # Extract the first document\n",
    "else:\n",
    "    raise ValueError(\"No relevant document retrieved from ChromaDB.\")\n",
    "\n",
    "# Ensure retrieved_doc is a string (if it's a list, join its contents)\n",
    "retrieved_doc = \" \".join(retrieved_doc) if isinstance(retrieved_doc, list) else str(retrieved_doc)\n",
    "\n",
    "# Ask Llama3 to generate a response\n",
    "response = ollama.chat(model=\"llama3\", messages=[\n",
    "    {\"role\": \"system\", \"content\": \"You are a financial assistant providing insights on revenue.\"},\n",
    "    {\"role\": \"user\", \"content\": retrieved_doc}  # Make sure this is a string\n",
    "])\n",
    "\n",
    "# Print the response\n",
    "print(response[\"message\"][\"content\"])\n",
    "\n",
    "\n"
   ]
  }
 ],
 "metadata": {
  "accelerator": "GPU",
  "colab": {
   "authorship_tag": "ABX9TyM+4l6fRbj/7FKuooRMRDzi",
   "gpuType": "T4",
   "provenance": []
  },
  "kernelspec": {
   "display_name": "Python 3",
   "name": "python3"
  },
  "language_info": {
   "name": "python"
  }
 },
 "nbformat": 4,
 "nbformat_minor": 0
}
