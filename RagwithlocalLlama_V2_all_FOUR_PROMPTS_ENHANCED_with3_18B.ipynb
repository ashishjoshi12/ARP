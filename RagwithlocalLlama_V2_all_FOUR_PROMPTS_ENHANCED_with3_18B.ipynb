{
  "cells": [
    {
      "cell_type": "code",
      "execution_count": null,
      "metadata": {
        "id": "MB5pkUBTPxT9"
      },
      "outputs": [],
      "source": [
        "#installing ollama\n",
        "#!pip install ollama\n",
        "!curl -fsSL https://ollama.com/install.sh | sh"
      ]
    },
    {
      "cell_type": "code",
      "execution_count": 2,
      "metadata": {
        "id": "Vo5wtP9yRXMO"
      },
      "outputs": [],
      "source": [
        "#starting ollama server locally\n",
        "import subprocess\n",
        "import time\n",
        "process = subprocess.Popen(\"ollama serve\", shell=True)\n",
        "time.sleep(5)  # Wait for 5 seconds"
      ]
    },
    {
      "cell_type": "code",
      "execution_count": null,
      "metadata": {
        "id": "VnT_dwq7P5VC"
      },
      "outputs": [],
      "source": [
        "#pulling llama3 using ollama\n",
        "!ollama pull llama3.1:8b"
      ]
    },
    {
      "cell_type": "code",
      "execution_count": 4,
      "metadata": {
        "id": "zlmNn4VpRB0f",
        "colab": {
          "base_uri": "https://localhost:8080/"
        },
        "outputId": "db277017-e82e-4bd3-9028-b3fa490d1f69"
      },
      "outputs": [
        {
          "output_type": "stream",
          "name": "stdout",
          "text": [
            "NAME           ID              SIZE      MODIFIED               \n",
            "llama3.1:8b    46e0c10c039e    4.9 GB    Less than a second ago    \n"
          ]
        }
      ],
      "source": [
        "#testing llama 3 is availble\n",
        "!ollama list"
      ]
    },
    {
      "cell_type": "code",
      "source": [
        "!ollama pull nomic-embed-text"
      ],
      "metadata": {
        "id": "wZH9NWqa_INO"
      },
      "execution_count": null,
      "outputs": []
    },
    {
      "cell_type": "code",
      "execution_count": null,
      "metadata": {
        "id": "oMg5iCGIPAsG"
      },
      "outputs": [],
      "source": [
        "!pip install langchain_community langchain langchain-openai langchain_pinecone langchain[docarray] docarray pydantic==1.10.8 pytube python-dotenv tiktoken pinecone-client scikit-learn ruff pypdf faiss-cpu sentence-transformers\n"
      ]
    },
    {
      "cell_type": "code",
      "source": [
        "import os\n",
        "from langchain_community.vectorstores import FAISS\n",
        "from langchain_community.llms import Ollama\n",
        "from langchain_openai.chat_models import ChatOpenAI\n",
        "from langchain_community.embeddings import OllamaEmbeddings\n",
        "from langchain_openai.embeddings import OpenAIEmbeddings\n",
        "from langchain_core.output_parsers import StrOutputParser\n",
        "from langchain.prompts import PromptTemplate\n",
        "from langchain_community.document_loaders import PyPDFLoader\n",
        "from langchain_community.vectorstores import DocArrayInMemorySearch\n",
        "from operator import itemgetter\n",
        "from langchain.embeddings import SentenceTransformerEmbeddings"
      ],
      "metadata": {
        "id": "bMZmbjeGJll_"
      },
      "execution_count": 7,
      "outputs": []
    },
    {
      "cell_type": "code",
      "execution_count": 8,
      "metadata": {
        "id": "8pm0gZk1Oi4e"
      },
      "outputs": [],
      "source": [
        "\n",
        "#setting up model dynamically\n",
        "#from dotenv import load_dotenv\n",
        "\n",
        "#load_dotenv()\n",
        "\n",
        "#OPENAI_API_KEY = os.getenv(\"OPENAI_API_KEY\")\n",
        "#MODEL = \"gpt-3.5-turbo\"\n",
        "#MODEL = \"mixtral:8x7b\"\n",
        "MODEL = \"llama3.1:8b\"\n",
        "#MODEL = \"llama3.1:70b\"\n",
        "\n",
        "#VECTOR_STORE = \"default\"\n",
        "VECTOR_STORE = \"FAISS\"\n",
        "#VECTOR_STORE = \"pinecone\""
      ]
    },
    {
      "cell_type": "code",
      "execution_count": 29,
      "metadata": {
        "id": "0XvY1Gw4OzGe"
      },
      "outputs": [],
      "source": [
        "#loading model based on selection\n",
        "if MODEL.startswith(\"gpt\"):\n",
        "    model = ChatOpenAI(openai_api_key=OPENAI_API_KEY, model=MODEL)\n",
        "    embeddings = OpenAIEmbeddings()\n",
        "else:\n",
        "    model = Ollama(model=MODEL, temperature = 0.2,top_p=1)\n",
        "    #embeddings = SentenceTransformerEmbeddings(model_name=\"all-mpnet-base-v2\")\n",
        "    embeddings = OllamaEmbeddings(model=\"nomic-embed-text\")\n",
        "\n",
        "#testing model invoke\n",
        "#model.invoke(\"what is ML\")"
      ]
    },
    {
      "cell_type": "code",
      "source": [
        "#creating parser\n",
        "parser = StrOutputParser()\n",
        "\n",
        "chain = model | parser\n",
        "\n",
        "#testing model invoke with parser\n",
        "#chain.invoke(\"what is ML\")"
      ],
      "metadata": {
        "id": "0L64O9tvKJQI"
      },
      "execution_count": 30,
      "outputs": []
    },
    {
      "cell_type": "code",
      "source": [
        "#loading pdf files\n",
        "import copy\n",
        "\n",
        "loader = PyPDFLoader(\"/content/gxocompany.pdf\")\n",
        "pages = loader.load_and_split()\n",
        "pages_original = copy.deepcopy(pages)\n",
        "#pages_original[35]"
      ],
      "metadata": {
        "id": "MassZcwpLBMB"
      },
      "execution_count": 31,
      "outputs": []
    },
    {
      "cell_type": "code",
      "source": [
        "# Create an empty string to store the combined content\n",
        "combined_content = \"\"\n",
        "for page in pages_original:\n",
        "    combined_content += page.page_content\n",
        "\n",
        "# Print or use the combined content\n",
        "#print(combined_content)"
      ],
      "metadata": {
        "id": "5bNRodQp2MjF"
      },
      "execution_count": 32,
      "outputs": []
    },
    {
      "cell_type": "code",
      "source": [
        "from langchain.text_splitter import RecursiveCharacterTextSplitter\n",
        "\n",
        "text_splitter = RecursiveCharacterTextSplitter(\n",
        "    chunk_size=1000,  # Adjust based on document size\n",
        "    chunk_overlap=200,  # Ensures important context isn't lost\n",
        "    separators=[\"\\n\\n\", \"\\n\", \" \"]  # Prioritize splitting at paragraph breaks\n",
        ")\n",
        "\n",
        "#chunks = text_splitter.split_documents(pages)\n",
        "chunks = text_splitter.create_documents([combined_content])"
      ],
      "metadata": {
        "id": "UHtuVltUkXaT"
      },
      "execution_count": 33,
      "outputs": []
    },
    {
      "cell_type": "code",
      "source": [
        "import pandas as pd\n",
        "from langchain.schema import Document\n",
        "\n",
        "df = pd.read_excel('/content/gxo_statement.xlsx')\n",
        "\n",
        "all_content = \"\"\n",
        "separator = \"\\n\\n\"  # Define your separator (e.g., newline characters)\n",
        "for index, row in df.iterrows():\n",
        "    row_content = ' '.join([str(cell) for cell in row.values])  # Combine all cell values in a row\n",
        "    all_content += row_content + separator  # Add row content and separator to the combined string\n",
        "\n",
        "\n",
        "document = Document(page_content=all_content)\n",
        "chunks_excel = text_splitter.split_documents([document])\n",
        "\n",
        "# Add metadata to each chunk after splitting\n",
        "for chunk in chunks_excel:\n",
        "    chunk.metadata[\"source\"] = \"financial data\"\n",
        "\n",
        "#print(chunks_excel)\n",
        "\n",
        "all_chunks = chunks_excel + chunks\n",
        "#print(all_chunks)"
      ],
      "metadata": {
        "id": "o8wjOCQ4fwsE"
      },
      "execution_count": 34,
      "outputs": []
    },
    {
      "cell_type": "code",
      "source": [
        "#loading vector store based on selection\n",
        "if VECTOR_STORE == \"FAISS\":\n",
        "    #vectorstore = FAISS.from_documents(pages, embeddings)\n",
        "    vectorstore = FAISS.from_documents(all_chunks, embeddings)\n",
        "else:\n",
        "    vectorstore = DocArrayInMemorySearch.from_documents(chunks, embedding=embeddings, verbose=True)"
      ],
      "metadata": {
        "id": "-7ibIrIuLnvu"
      },
      "execution_count": 35,
      "outputs": []
    },
    {
      "cell_type": "code",
      "source": [
        "def keyword_aware_retriever(question):\n",
        "    keyword_results = []\n",
        "    regular_results = []\n",
        "\n",
        "    if \"financial data\" in question.lower():\n",
        "        # Keyword search for \"financial data\"\n",
        "        keyword_results = vectorstore.search(\n",
        "            question,\n",
        "            search_type=\"similarity\",\n",
        "            search_kwargs={\"filter\": {\"source\": \"financial data\"}, \"k\": 1}\n",
        "        )\n",
        "\n",
        "        # Check if keyword_results contains a document with the desired metadata\n",
        "        has_financial_data = any(doc.metadata.get(\"source\") == \"financial data\" for doc in keyword_results)\n",
        "\n",
        "        # If not, add chunks_excel to keyword_results\n",
        "        if not has_financial_data:\n",
        "            keyword_results = chunks_excel + keyword_results\n",
        "\n",
        "    # Regular semantic search\n",
        "    regular_results = vectorstore.search(question, search_type=\"similarity\", search_kwargs={\"k\": 18})\n",
        "\n",
        "    # Combine results, prioritizing keyword matches\n",
        "    combined_results = keyword_results + [\n",
        "        doc for doc in regular_results if doc not in keyword_results\n",
        "    ]\n",
        "\n",
        "    return combined_results[:20]  # Limit to top 20 results"
      ],
      "metadata": {
        "id": "IgZB3d6uY-sC"
      },
      "execution_count": 36,
      "outputs": []
    },
    {
      "cell_type": "code",
      "source": [
        "#setting up retriver\n",
        "retriever = vectorstore.as_retriever(search_kwargs={\"k\": 20})\n",
        "\n",
        "#testing retriver\n",
        "#retriever.invoke(\"balance sheets\")"
      ],
      "metadata": {
        "id": "zdUxpw7TL61L"
      },
      "execution_count": 37,
      "outputs": []
    },
    {
      "cell_type": "code",
      "source": [
        "def print_context(inputs):\n",
        "  print(\"Context:\")\n",
        "  print(inputs[\"context\"])\n",
        "  return inputs"
      ],
      "metadata": {
        "id": "-ipxs1JGeM8W"
      },
      "execution_count": 38,
      "outputs": []
    },
    {
      "cell_type": "code",
      "source": [
        "#creating template\n",
        "template = \"\"\"\n",
        "Analyze the provided financial data, focusing on the specified financial metric and its impact.\n",
        "\n",
        "When conducting your analysis, consider the following:\n",
        "\n",
        "1.  **Key Figures:** State the key financial figures for the current and prior periods relevant to the specified metric.\n",
        "2.  **Change Analysis:** Calculate and state the year-over-year (y/y) change in the metric, including both absolute values and percentages.\n",
        "3.  **Explanation of Changes:** Provide concise and specific reasons for the observed changes in the financial metric.\n",
        "\n",
        "In addition, incorporate the following into your analysis as relevant:\n",
        "\n",
        "-   **Related Ratios or Metrics:** Include any relevant financial ratios or metrics that provide further context or insights into the changes in the primary metric. Analyze their trends (stable, increased, decreased).\n",
        "-   **Impact on Profitability:** If applicable, discuss the impact of the changes in the financial metric on profitability (e.g., net operating profit, gross profit).\n",
        "\n",
        "Ensure the following:\n",
        "-   Use specific numerical values, including dollar amounts and percentages, where applicable.\n",
        "-   Provide concise and specific reasons for changes.\n",
        "-   Avoid unnecessary details.\n",
        "-   Present your analysis in a clear and concise manner.\n",
        "\n",
        "Financial Data: {context}\n",
        "\n",
        "Question: {question}\n",
        "\"\"\"\n",
        "\n",
        "prompt = PromptTemplate.from_template(template)\n",
        "\n",
        "#testing prompt\n",
        "#prompt.format(context=\"Here is some context\", question=\"Here is a question\")"
      ],
      "metadata": {
        "id": "Y_2LWLGN1Vt3"
      },
      "execution_count": 39,
      "outputs": []
    },
    {
      "cell_type": "code",
      "source": [
        "#chaining all operations\n",
        "from langchain_core.runnables import RunnableLambda\n",
        "\n",
        "chain = (\n",
        "    #{\n",
        "     #   \"context\": itemgetter(\"question\") | retriever, #| RunnableLambda(lambda x: all_text),\n",
        "      #  #\"context\": RunnableLambda(lambda x: combined_content),\n",
        "       # \"question\": itemgetter(\"question\"),\n",
        "    #}\n",
        "     RunnableLambda(lambda x: {\"context\": keyword_aware_retriever(x[\"question\"]), \"question\": x[\"question\"]})\n",
        "    #| RunnableLambda(print_context)\n",
        "    | prompt\n",
        "    |model\n",
        "    | parser\n",
        ")"
      ],
      "metadata": {
        "id": "jh4g4GZJMFqI"
      },
      "execution_count": 40,
      "outputs": []
    },
    {
      "cell_type": "code",
      "source": [
        "#posting questions\n",
        "questions = [\n",
        "    #\"provide finanacial analysis as underwriter in financial company by going to complete context that has in company annual reports\",\n",
        "     #\"how is the revenue growth of company in 2023\",\n",
        "   \"\"\"\n",
        "  Analyze the financial data and provide a structured summary of revenue growth for the current and prior periods, using the keyword \"revenue\" to pick up relevant figures.\n",
        "\n",
        "Your response should include:\n",
        "\n",
        "1. Total revenue for the current and prior periods, expressed in the appropriate units (e.g., millions, billions).\n",
        "2. Year-over-year (y/y) change in revenue, including:\n",
        "    - Absolute change in dollars ($).\n",
        "    - Percentage change (%).\n",
        "3. Key factors contributing to the revenue change, with specific examples and data points from the financial statements to support your findings. If possible, quantify the impact of each factor on revenue in dollar terms.\n",
        "\"\"\",\n",
        "\"\"\"\n",
        "Analyze the 'transactions and integration costs' from the provided financial data.\n",
        "\n",
        "Your analysis should include the following:\n",
        "\n",
        "1. **Key Figures:** State the total 'transactions and integration costs' for the current and prior periods.\n",
        "2. **Change Analysis:** Calculate and state the year-over-year (y/y) change in 'transactions and integration costs,' including both the absolute value and percentage change.\n",
        "3. **Explanation of Changes:** Provide a detailed explanation for the observed change in 'transactions and integration costs,' including specific reasons and any contributing factors.\n",
        "Present your analysis in a clear and concise manner, using specific numerical values, dollar amounts, and percentages wherever applicable.\n",
        "\"\"\",\n",
        "\"\"\"\n",
        "Analyze the 'total operating expenses' from the provided financial data, focusing on the operating expense ratio, net operating profit, and revenue.\n",
        "\n",
        "Your analysis should include the following:\n",
        "\n",
        "1. Key Figures:\n",
        "    - State the total 'operating expenses' for the current period and prior period in millions.\n",
        "    - Include a breakdown of specific contributing factors and their impact on net operating profit, if available.\n",
        "    - What is the operating expense ratio for the current period and prior period, expressed as a percentage? How does the trend of operating expenses compare to revenue growth?\n",
        "2. Change Analysis:\n",
        "    - Calculate and state the year-over-year (y/y) change in 'operating expenses,' including both the absolute value (in $MM) and percentage change (%).\n",
        "    - What is the year-over-year change in net operating profit, expressed in both dollar amount ($MM) and percentage (%)?\n",
        "3. Explanation of Changes:\n",
        "    - Provide a detailed explanation for the observed change in 'operating expenses,' including specific reasons and any contributing factors.\n",
        "    - If possible, mention factors like lease and bad debt expenses and their impact in dollar terms, if they are relevant to the changes.\n",
        "\n",
        "Present your analysis in a clear and concise manner, using specific numerical values, dollar amounts, and percentages wherever applicable. Ensure you extract values directly from the 'Structured Income Statement Summary' if available in the financial data.\n",
        "\"\"\",\n",
        "\"\"\"\n",
        "Analyze the financial data provided and summarize the key financial performance for the recent fiscal year, focusing on revenue, cost of goods sold (COGS), gross profit, and gross profit margin.\n",
        "\n",
        "Your analysis should include:\n",
        "\n",
        "* **Key Figures:** Present the key financial figures for the current and prior periods for each of the metrics mentioned, including specific amounts and percentages. Show your calculations to derive these figures where possible, using the data provided in the context.\n",
        "* **Change Analysis:** Calculate and state the year-over-year (y/y) change for each metric, including both absolute values ($) and percentages (%).\n",
        "* **Explanation of Changes:** Provide concise and specific reasons for the observed changes in each metric, referencing the context and highlighting key factors driving the performance.\n",
        "* **Related Ratios and Metrics:** Include relevant financial ratios or metrics that provide further context (e.g., gross profit margin). Analyze their trends (stable, increased, decreased) and their impact on profitability.\n",
        "* **Impact on Profitability:** Discuss the overall impact of the changes on the company's profitability, highlighting key drivers and trends.\n",
        "\n",
        "Present your analysis in a clear and concise manner, using bullet points or numbered lists for clarity. Support your analysis with specific numerical values, dollar amounts, and percentages wherever applicable.\n",
        "\"\"\"\n",
        "]\n",
        "\n",
        "for question in questions:\n",
        "    print(f\"Question: {question}\")\n",
        "    print(f\"Answer: {chain.invoke({'question': question})}\")\n",
        "    print()"
      ],
      "metadata": {
        "colab": {
          "base_uri": "https://localhost:8080/"
        },
        "id": "Q-vOXzWzMHZt",
        "outputId": "a32995f2-b296-4d65-87f8-a589c992222e"
      },
      "execution_count": 41,
      "outputs": [
        {
          "output_type": "stream",
          "name": "stdout",
          "text": [
            "Question: \n",
            "  Analyze the financial data and provide a structured summary of revenue growth for the current and prior periods, using the keyword \"revenue\" to pick up relevant figures.\n",
            "\n",
            "Your response should include:\n",
            "\n",
            "1. Total revenue for the current and prior periods, expressed in the appropriate units (e.g., millions, billions).\n",
            "2. Year-over-year (y/y) change in revenue, including:\n",
            "    - Absolute change in dollars ($).\n",
            "    - Percentage change (%).\n",
            "3. Key factors contributing to the revenue change, with specific examples and data points from the financial statements to support your findings. If possible, quantify the impact of each factor on revenue in dollar terms.\n",
            "\n",
            "Answer: **Revenue Growth Analysis**\n",
            "\n",
            "### Key Figures:\n",
            "\n",
            "*   **Current Period (2023):** $9,778 million\n",
            "*   **Prior Period (2022):** $8,993 million\n",
            "\n",
            "### Change Analysis:\n",
            "\n",
            "*   **Absolute Change:** $785 million ($9,778 - $8,993)\n",
            "*   **Percentage Change:** 9%\n",
            "\n",
            "### Explanation of Changes:\n",
            "\n",
            "The revenue growth in 2023 can be attributed to several factors:\n",
            "\n",
            "1.  **Clipper Acquisition:** The acquisition contributed $378 million to the revenue increase.\n",
            "2.  **PFS Acquisition:** This acquisition added $82 million to the revenue growth.\n",
            "3.  **Continental Europe Growth:** Revenue growth in Continental Europe also contributed to the overall increase.\n",
            "\n",
            "### Related Ratios or Metrics:\n",
            "\n",
            "*   **Revenue Growth Rate:** 9% (year-over-year)\n",
            "*   **Operating Income Growth:** 31% (year-over-year)\n",
            "\n",
            "### Impact on Profitability:\n",
            "\n",
            "The revenue growth had a positive impact on profitability, with operating income increasing by $76 million (31%) in 2023 compared to the prior period.\n",
            "\n",
            "Note: The provided financial data does not include detailed information about other factors that may have contributed to the revenue change. However, based on the available data, these three factors are identified as key contributors to the revenue growth in 2023.\n",
            "\n",
            "Question: \n",
            "Analyze the 'transactions and integration costs' from the provided financial data.\n",
            "\n",
            "Your analysis should include the following:\n",
            "\n",
            "1. **Key Figures:** State the total 'transactions and integration costs' for the current and prior periods.\n",
            "2. **Change Analysis:** Calculate and state the year-over-year (y/y) change in 'transactions and integration costs,' including both the absolute value and percentage change.\n",
            "3. **Explanation of Changes:** Provide a detailed explanation for the observed change in 'transactions and integration costs,' including specific reasons and any contributing factors.\n",
            "Present your analysis in a clear and concise manner, using specific numerical values, dollar amounts, and percentages wherever applicable.\n",
            "\n",
            "Answer: **Analysis of Transactions and Integration Costs**\n",
            "\n",
            "**Key Figures:**\n",
            "\n",
            "*   **2023:** $34 million\n",
            "*   **2022:** $61 million\n",
            "\n",
            "**Change Analysis:**\n",
            "\n",
            "*   **Year-over-Year (y/y) Change in Absolute Value:** -$27 million\n",
            "*   **Year-over-Year (y/y) Percentage Change:** -44.26%\n",
            "\n",
            "**Explanation of Changes:**\n",
            "\n",
            "The observed decrease in transactions and integration costs from 2022 to 2023 can be attributed to several factors:\n",
            "\n",
            "1.  **Reduced Advisory Fees:** The integration of Clipper in 2023 incurred $20 million in advisory fees, which is lower compared to the $46 million related to the Clipper Acquisition in 2022.\n",
            "2.  **Lower Severance Costs:** The PFS Acquisition in 2023 resulted in $12 million in severance costs, which is lower than the $15 million from the Separation in 2022.\n",
            "3.  **Efficiency Improvements:** The company may have implemented cost-saving measures or optimized its integration processes, leading to reduced transaction and integration costs.\n",
            "\n",
            "**Related Ratios or Metrics:**\n",
            "\n",
            "*   **Gross Profit Margin:** The decrease in transactions and integration costs contributed to an increase in gross profit margin, which can be calculated by dividing the gross profit by revenue.\n",
            "*   **Operating Expenses as a Percentage of Revenue:** The reduction in transactions and integration costs may have also led to a decrease in operating expenses as a percentage of revenue.\n",
            "\n",
            "**Impact on Profitability:**\n",
            "\n",
            "The decrease in transactions and integration costs positively impacted profitability, contributing to an increase in net operating profit. This can be attributed to the reduced expenses associated with advisory fees, severance costs, and other integration-related expenditures.\n",
            "\n",
            "Question: \n",
            "Analyze the 'total operating expenses' from the provided financial data, focusing on the operating expense ratio, net operating profit, and revenue.\n",
            "\n",
            "Your analysis should include the following:\n",
            "\n",
            "1. Key Figures:\n",
            "    - State the total 'operating expenses' for the current period and prior period in millions.\n",
            "    - Include a breakdown of specific contributing factors and their impact on net operating profit, if available.\n",
            "    - What is the operating expense ratio for the current period and prior period, expressed as a percentage? How does the trend of operating expenses compare to revenue growth?\n",
            "2. Change Analysis:\n",
            "    - Calculate and state the year-over-year (y/y) change in 'operating expenses,' including both the absolute value (in $MM) and percentage change (%).\n",
            "    - What is the year-over-year change in net operating profit, expressed in both dollar amount ($MM) and percentage (%)?\n",
            "3. Explanation of Changes:\n",
            "    - Provide a detailed explanation for the observed change in 'operating expenses,' including specific reasons and any contributing factors.\n",
            "    - If possible, mention factors like lease and bad debt expenses and their impact in dollar terms, if they are relevant to the changes.\n",
            "\n",
            "Present your analysis in a clear and concise manner, using specific numerical values, dollar amounts, and percentages wherever applicable. Ensure you extract values directly from the 'Structured Income Statement Summary' if available in the financial data.\n",
            "\n",
            "Answer: **Analysis of Total Operating Expenses**\n",
            "\n",
            "**Key Figures:**\n",
            "\n",
            "*   **Total Operating Expenses (2023):** $1,532 million\n",
            "*   **Total Operating Expenses (2022):** $1,343 million\n",
            "*   **Breakdown of Specific Contributing Factors:**\n",
            "    *   Direct operating expense for 2023 increased by 8%, or $592 million, to $8.0 billion compared with $7.4 billion for 2022.\n",
            "    *   Selling, general and administrative expense increased by 13% to $998 million in 2023.\n",
            "    *   Transaction and integration costs decreased by 44% to $34 million in 2023.\n",
            "\n",
            "**Operating Expense Ratio:**\n",
            "\n",
            "*   **2023:** ($1,532 million / $9,778 million) \\* 100 = 15.7%\n",
            "*   **2022:** ($1,343 million / $8,993 million) \\* 100 = 15%\n",
            "\n",
            "The operating expense ratio has remained relatively stable between the two periods.\n",
            "\n",
            "**Change Analysis:**\n",
            "\n",
            "*   **Year-over-Year (y/y) Change in Operating Expenses:** +$189 million (+14%)\n",
            "*   **Year-over-Year (y/y) Change in Net Operating Profit:** +$76 million (+31%)\n",
            "\n",
            "**Explanation of Changes:**\n",
            "\n",
            "The increase in operating expenses is primarily due to the 8% increase in direct operating expense, which reflects $286 million from the Clipper Acquisition and higher personnel and rent expenses. Additionally, selling, general and administrative expense increased by 13%. However, transaction and integration costs decreased significantly.\n",
            "\n",
            "**Impact on Profitability:**\n",
            "\n",
            "The increase in operating expenses has a negative impact on net operating profit, as it reduces the amount of profit available for other activities. Despite this, the company's revenue growth has helped to offset some of the increased expenses, resulting in a 31% increase in net operating profit.\n",
            "\n",
            "**Related Ratios or Metrics:**\n",
            "\n",
            "*   **Gross Profit Margin:** ($1,743 million / $9,778 million) \\* 100 = 17.8% (2023)\n",
            "    *   ($1,550 million / $8,993 million) \\* 100 = 17.3% (2022)\n",
            "\n",
            "The gross profit margin has remained relatively stable between the two periods.\n",
            "\n",
            "**Impact on Revenue:**\n",
            "\n",
            "The increase in operating expenses is a concern as it may indicate that the company's cost structure is not aligned with its revenue growth. However, the company's ability to maintain a stable gross profit margin suggests that it has some flexibility to absorb increased costs without significantly impacting profitability.\n",
            "\n",
            "Question: \n",
            "Analyze the financial data provided and summarize the key financial performance for the recent fiscal year, focusing on revenue, cost of goods sold (COGS), gross profit, and gross profit margin.\n",
            "\n",
            "Your analysis should include:\n",
            "\n",
            "* **Key Figures:** Present the key financial figures for the current and prior periods for each of the metrics mentioned, including specific amounts and percentages. Show your calculations to derive these figures where possible, using the data provided in the context.\n",
            "* **Change Analysis:** Calculate and state the year-over-year (y/y) change for each metric, including both absolute values ($) and percentages (%).\n",
            "* **Explanation of Changes:** Provide concise and specific reasons for the observed changes in each metric, referencing the context and highlighting key factors driving the performance.\n",
            "* **Related Ratios and Metrics:** Include relevant financial ratios or metrics that provide further context (e.g., gross profit margin). Analyze their trends (stable, increased, decreased) and their impact on profitability.\n",
            "* **Impact on Profitability:** Discuss the overall impact of the changes on the company's profitability, highlighting key drivers and trends.\n",
            "\n",
            "Present your analysis in a clear and concise manner, using bullet points or numbered lists for clarity. Support your analysis with specific numerical values, dollar amounts, and percentages wherever applicable.\n",
            "\n",
            "Answer: **Key Figures:**\n",
            "\n",
            "* Revenue (2023): $9,778\n",
            "* Revenue (2022): $8,993\n",
            "* Cost of Goods Sold (COGS) (2023): $8,035\n",
            "* COGS (2022): $7,443\n",
            "* Gross Profit (2023): $1,743 ($9,778 - $8,035)\n",
            "* Gross Profit (2022): $1,550 ($8,993 - $7,443)\n",
            "\n",
            "**Change Analysis:**\n",
            "\n",
            "| Metric | Year-over-Year Change |\n",
            "| --- | --- |\n",
            "| Revenue | +$885 (+9.8%) |\n",
            "| COGS | +$592 (+7.9%) |\n",
            "| Gross Profit | +$193 (+12.4%) |\n",
            "\n",
            "**Explanation of Changes:**\n",
            "\n",
            "* The increase in revenue by $885 (or 9.8%) can be attributed to the company's growth strategies and expansion into new markets.\n",
            "* The rise in COGS by $592 (or 7.9%) may indicate increased production costs, possibly due to higher raw material prices or operational inefficiencies.\n",
            "* The improvement in gross profit by $193 (or 12.4%) suggests that despite the increase in COGS, revenue growth has outpaced cost increases.\n",
            "\n",
            "**Related Ratios and Metrics:**\n",
            "\n",
            "* Gross Profit Margin = (Gross Profit / Revenue) x 100\n",
            "\t+ 2023: ($1,743 / $9,778) x 100 ≈ 17.8%\n",
            "\t+ 2022: ($1,550 / $8,993) x 100 ≈ 17.3%\n",
            "\n",
            "The gross profit margin has increased slightly from 17.3% to 17.8%, indicating that the company is maintaining its pricing power and efficiency in production.\n",
            "\n",
            "**Impact on Profitability:**\n",
            "\n",
            "While the increase in revenue and gross profit are positive indicators, the rise in COGS may impact profitability if not managed effectively. The company should focus on optimizing operational costs and exploring opportunities for cost savings to maintain or improve its gross margin.\n",
            "\n",
            "In conclusion, the financial data suggests that the company has experienced growth in revenue and gross profit, with a slight improvement in gross profit margin. However, the increase in COGS warrants attention to ensure that profitability is maintained or improved.\n",
            "\n"
          ]
        }
      ]
    }
  ],
  "metadata": {
    "colab": {
      "provenance": [],
      "gpuType": "T4"
    },
    "kernelspec": {
      "display_name": "Python 3",
      "name": "python3"
    },
    "language_info": {
      "name": "python"
    },
    "accelerator": "GPU"
  },
  "nbformat": 4,
  "nbformat_minor": 0
}